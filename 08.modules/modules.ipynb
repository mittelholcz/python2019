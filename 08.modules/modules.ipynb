{
 "cells": [
  {
   "cell_type": "markdown",
   "metadata": {
    "slideshow": {
     "slide_type": "slide"
    }
   },
   "source": [
    "# Másolás, modulok, fájlkezelés\n",
    "\n",
    "---\n",
    "\n",
    "(2019. 11. 19. – 8. óra)\n",
    "\n",
    "Mittelholcz Iván"
   ]
  },
  {
   "cell_type": "markdown",
   "metadata": {
    "slideshow": {
     "slide_type": "slide"
    }
   },
   "source": [
    "# 1.1. Mellékhatás, változékonyság\n",
    "\n",
    "Változékony (*mutable*) adattípusok (`list`, `set`, `dict`) kezelésére kétféle függvényt is írhatunk:\n",
    "\n",
    "1. tisztát, ami új konténerrel tér vissza, az eredetit nem változtatja meg\n",
    "\n",
    "  ```py\n",
    "  def pure_increment(mylist):\n",
    "      res = []\n",
    "      for i in mylist:\n",
    "          res.append(i+1)\n",
    "      return res\n",
    "```\n",
    "\n",
    "2. mellékhatásosat, ami nem tér vissza semmivel, de megváltoztatja a paraméterként megkapott konténert\n",
    "\n",
    "  ```py\n",
    "  def increment(mylist):\n",
    "      for i in range(len(mylist)):\n",
    "          mylist[i] += 1\n",
    "  ```"
   ]
  },
  {
   "cell_type": "markdown",
   "metadata": {
    "slideshow": {
     "slide_type": "subslide"
    }
   },
   "source": [
    "# 1.2. Másolás\n",
    "\n",
    "Lehetőségek a másolásra:\n",
    "\n",
    "```py\n",
    "l1 = [1, 2, 3]\n",
    "l2 = l1[:]\n",
    "l3 = l1.copy()\n",
    "```"
   ]
  },
  {
   "cell_type": "markdown",
   "metadata": {
    "slideshow": {
     "slide_type": "fragment"
    }
   },
   "source": [
    "Változtatunk, semmi probléma:\n",
    "\n",
    "```py\n",
    "increment(l2)\n",
    "increment(l3)\n",
    "increment(l3)\n",
    "```"
   ]
  },
  {
   "cell_type": "markdown",
   "metadata": {
    "slideshow": {
     "slide_type": "subslide"
    }
   },
   "source": [
    "# 1.3. Shallow vs. deep copy\n",
    "\n",
    "Probléma:\n",
    "\n",
    "```py\n",
    "L1 = [l1, l2, l3]\n",
    "L2 = L1.copy()\n",
    "increment(L1[0])\n",
    "```"
   ]
  },
  {
   "cell_type": "markdown",
   "metadata": {
    "slideshow": {
     "slide_type": "fragment"
    }
   },
   "source": [
    "Megoldás:\n",
    "\n",
    "```py\n",
    "import copy\n",
    "L2 = copy.deepcopy(L1)\n",
    "```"
   ]
  },
  {
   "cell_type": "markdown",
   "metadata": {
    "slideshow": {
     "slide_type": "fragment"
    }
   },
   "source": [
    "## Tanulság\n",
    "\n",
    "Mellékhatás hatékony, de veszélyes lehet. Csak akkor használjuk, ha tényleg megéri (nagy adat)."
   ]
  },
  {
   "cell_type": "markdown",
   "metadata": {
    "slideshow": {
     "slide_type": "slide"
    }
   },
   "source": [
    "# 2.1. Nyelvek felépítése\n",
    "\n",
    "<img alt=\"langs\" src=\"img/langs.png\" style=\"width: 50%;\">\n",
    "\n",
    "b.i.: *built-in* (függvények, típusok) – nem kell telepíteni, nem kell importálni\n",
    "\n",
    "S.L.: *Standard Library* (csomagok) – nem kell telepíteni, de importálni kell\n",
    "\n",
    "3rd p.: *Third party* (csomagok) – telepíteni kell, imortálni kell"
   ]
  },
  {
   "cell_type": "markdown",
   "metadata": {
    "slideshow": {
     "slide_type": "subslide"
    }
   },
   "source": [
    "# 2.2. Telepítés\n",
    "\n",
    "Python csomag telepítése rendszer szinten:\n",
    "\n",
    "```\n",
    "sudo pip3 install package_name\n",
    "```\n",
    "\n",
    "Python csomag telepítése felhasználóként:\n",
    "\n",
    "```\n",
    "pip3 install --user package_name\n",
    "```\n",
    "\n",
    "Telepített csomagok listázása:\n",
    "\n",
    "```\n",
    "pip3 freeze\n",
    "```\n",
    "\n",
    "Telepített csomag törlése:\n",
    "\n",
    "```\n",
    "pip uninstall package_name\n",
    "```\n",
    "\n",
    "Dokumentáció: <https://pip.pypa.io/en/stable/>\n"
   ]
  },
  {
   "cell_type": "markdown",
   "metadata": {
    "slideshow": {
     "slide_type": "subslide"
    }
   },
   "source": [
    "# 2.3. Importálás\n",
    "\n",
    "Csomag importálása:\n",
    "\n",
    "```py\n",
    "import package\n",
    "\n",
    "package.fun()\n",
    "```\n",
    "\n",
    "Csomag egy darabjának importálása (függvény, típus, akármi):\n",
    "\n",
    "```py\n",
    "from package import fun\n",
    "\n",
    "fun()\n",
    "```\n",
    "\n",
    "Csomag, vagy egy darabjának importálása más néven:\n",
    "\n",
    "```py\n",
    "import package1 as pkg1\n",
    "from package2 import function as fun\n",
    "\n",
    "pkg1.fun()\n",
    "fun()\n",
    "```"
   ]
  },
  {
   "cell_type": "markdown",
   "metadata": {
    "slideshow": {
     "slide_type": "subslide"
    }
   },
   "source": [
    "# 2.4. Python Standard Library\n",
    "\n",
    "Pár fontosabb csomag:\n",
    "\n",
    "- `sys`: magával a pythonnal kapcsolatos dolgok\n",
    "- fájlok, könyvátrak, stb: `os`, `glob`\n",
    "- szövegek: `string`, `re` (reguláris kifejezések)\n",
    "- `collections`: továbib gyűjteményes adattípusok\n",
    "- `pprint`: printelés csinosan\n",
    "- `csv`: CSV és TSV fájlok kezelése\n",
    "- matek: `random`, `math`, `statistics`\n",
    "\n",
    "Dokumentáció: <https://docs.python.org/3/library/index.html>"
   ]
  },
  {
   "cell_type": "markdown",
   "metadata": {
    "slideshow": {
     "slide_type": "subslide"
    }
   },
   "source": [
    "# 2.5. Saját modulok és csomagok írása \n",
    "\n",
    "- *modul*: Fájl, python kóddal. Importáláskor a fájlnevet adjuk meg, a '.py' végződés nélkül.\n",
    "  - Ha elérési utat kell megadnunk, akkor a `/` helyett a `.`-ot használjuk szeparátorként (`import a.b`).\n",
    "- *csomag*: könyvtár, python fájlokkal és egy `__init__.py` fájl.\n",
    "  - Az `__init__.py` maradhat üresen is (ekkor a fájlokat külön-külön kell importálni), de definiálhatjuk az `__all__` válozóban a csomagszinten delegálandó válozók, függvények, egyebek listáját (l. az `src/` könyvtárat)\n",
    "- olvasnivaló, ha szeretnénk ilyet csinálni: <https://docs.python.org/3/tutorial/modules.html>\n",
    "- olvasnivaló, ha saját *pip*-pel telepíthető csomagot szeretnénk csinálni: <https://packaging.python.org/tutorials/packaging-projects/> (haladó)"
   ]
  },
  {
   "cell_type": "markdown",
   "metadata": {
    "slideshow": {
     "slide_type": "subslide"
    }
   },
   "source": [
    "# 2.6. Kódszervezés\n",
    "\n",
    "Legyen a kód futtatható és importálható is:\n",
    "\n",
    "```py\n",
    "import sys\n",
    "\n",
    "def hasznos_fuggveny(param1, param2):\n",
    "   # ...\n",
    "   return 42\n",
    "   \n",
    "if __name__ == '__main__':\n",
    "    hasznos_fuggveny(sys.argv[1], sys.argv[2])\n",
    "```"
   ]
  },
  {
   "cell_type": "markdown",
   "metadata": {
    "slideshow": {
     "slide_type": "slide"
    }
   },
   "source": [
    "# 3.1. Fájl olvasása\n",
    "\n",
    "Fájl megnyitása:\n",
    "\n",
    "```py\n",
    "f = open('path/to/file', 'r')\n",
    "```\n",
    "\n",
    "Szöveges fájl tartalmának beolvasása strgingbe:\n",
    "\n",
    "```py\n",
    "text = f.read()\n",
    "```\n",
    "\n",
    "Szöveges fájl sorainak beolvasása listába:\n",
    "\n",
    "```py\n",
    "lines = f.readlines()\n",
    "```\n",
    "\n",
    "Szöveges fájl bejárása közvetlenül:\n",
    "\n",
    "```py\n",
    "for line in f:\n",
    "    process(line)\n",
    "```\n",
    "\n",
    "Fájl bezárása:\n",
    "\n",
    "```py\n",
    "f.close()\n",
    "```"
   ]
  },
  {
   "cell_type": "markdown",
   "metadata": {
    "slideshow": {
     "slide_type": "subslide"
    }
   },
   "source": [
    "# 3.2. Fájl írása\n",
    "\n",
    "Fájl megnyitása írásra:\n",
    "\n",
    "```py\n",
    "f = open('path/to/file', 'w')\n",
    "```\n",
    "\n",
    "Fájl megnyitása hozzáfűzésre:\n",
    "\n",
    "```py\n",
    "f = open('path/to/file', 'a')\n",
    "```\n",
    "\n",
    "Írás fájlba:\n",
    "\n",
    "```py\n",
    "f.write(text)\n",
    "```\n",
    "\n",
    "Vagy\n",
    "\n",
    "```py\n",
    "print(text, file=f)\n",
    "```\n",
    "\n",
    "Fájl bezárása: volt már..."
   ]
  },
  {
   "cell_type": "markdown",
   "metadata": {
    "slideshow": {
     "slide_type": "subslide"
    }
   },
   "source": [
    "# 3.3. `with` – avagy a `close()` megspórolása\n",
    "\n",
    "(Úgy hívják, hogy kontextus menedzser...)\n",
    "\n",
    "```py\n",
    "with open('path', 'r') as inp:\n",
    "    for line in inp:\n",
    "        process(line)\n",
    "        # ...\n",
    "```"
   ]
  },
  {
   "cell_type": "markdown",
   "metadata": {
    "slideshow": {
     "slide_type": "subslide"
    }
   },
   "source": [
    "# 3.4. stdin, stdout, stderr\n",
    "\n",
    "Nem kell megnyitni (és bezárni sem), csak importálni!\n",
    "\n",
    "Olvasás a stdin-ről:\n",
    "\n",
    "```py\n",
    "import sys\n",
    "\n",
    "for line in sys.stdin:\n",
    "    process(line)\n",
    "```\n",
    "\n",
    "Írás:\n",
    "\n",
    "```py\n",
    "sys.stdout.write(text)\n",
    "```\n",
    "\n",
    "vagy\n",
    "\n",
    "```py\n",
    "print(text, file=sys.stdout)\n",
    "```\n",
    "\n",
    "stderr: ugyanez"
   ]
  },
  {
   "cell_type": "markdown",
   "metadata": {
    "slideshow": {
     "slide_type": "slide"
    }
   },
   "source": [
    "# Feladatok\n",
    "\n",
    "1. Írjatok egy parancssorból futtatható programot ami a stdin-ról olvas, a stdout-ra ír, és szógyakoriságot számol (csökkenő sorrend)!\n",
    "2. Ugyan ez, de lehessen parancssorból is futtatni és modulként is importálni.\n",
    "3. Ugyan ez, de paranccsoros futtatásnál lehessen neki fájlt megadni és csak akkor olvasson a stdin-ről, ha nincs fájlnév megadva neki."
   ]
  },
  {
   "cell_type": "markdown",
   "metadata": {
    "slideshow": {
     "slide_type": "slide"
    }
   },
   "source": [
    "# Köszönöm a figyelmet!"
   ]
  }
 ],
 "metadata": {
  "celltoolbar": "Slideshow",
  "kernelspec": {
   "display_name": "Python 3",
   "language": "python",
   "name": "python3"
  },
  "language_info": {
   "codemirror_mode": {
    "name": "ipython",
    "version": 3
   },
   "file_extension": ".py",
   "mimetype": "text/x-python",
   "name": "python",
   "nbconvert_exporter": "python",
   "pygments_lexer": "ipython3",
   "version": "3.7.5"
  }
 },
 "nbformat": 4,
 "nbformat_minor": 2
}
