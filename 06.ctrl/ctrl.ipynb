{
 "cells": [
  {
   "cell_type": "markdown",
   "metadata": {
    "slideshow": {
     "slide_type": "slide"
    }
   },
   "source": [
    "# Vezérlési szerkezetek\n",
    "\n",
    "---\n",
    "\n",
    "(2019. 10. 28. – 6. óra)\n",
    "\n",
    "Mittelholcz Iván"
   ]
  },
  {
   "cell_type": "markdown",
   "metadata": {
    "slideshow": {
     "slide_type": "slide"
    }
   },
   "source": [
    "# Bevezető\n",
    "\n",
    "1. szekvencia\n",
    "1. elágazás\n",
    "1. ciklus"
   ]
  },
  {
   "cell_type": "markdown",
   "metadata": {
    "slideshow": {
     "slide_type": "slide"
    }
   },
   "source": [
    "# 1. Szekvencia\n",
    "\n",
    "Utasítások egymásutánja:\n",
    "\n",
    "```py\n",
    "utasitas1()\n",
    "utasitas2()\n",
    "```"
   ]
  },
  {
   "cell_type": "markdown",
   "metadata": {
    "slideshow": {
     "slide_type": "slide"
    }
   },
   "source": [
    "# 2. Elágazás\n",
    "\n",
    "Feltétel teljesülése esetén az egyik, nem teljesülése esetén egy másik utasítás fut le:\n",
    "\n",
    "```py\n",
    "if ch in 'aeiou':\n",
    "    print('mgh')\n",
    "else:\n",
    "    print('msh')\n",
    "```"
   ]
  },
  {
   "cell_type": "markdown",
   "metadata": {
    "slideshow": {
     "slide_type": "subslide"
    }
   },
   "source": [
    "# 2. Elágazás (folytatás)\n",
    "\n",
    "Az `else` ág opcionális (ha a feltétel nem teljesül, nem történik semmi):\n",
    "\n",
    "```py\n",
    "if uj_fizetes > 147000:\n",
    "    allast_valtok()\n",
    "```"
   ]
  },
  {
   "cell_type": "markdown",
   "metadata": {
    "slideshow": {
     "slide_type": "fragment"
    }
   },
   "source": [
    "Lehet kettőnél több ágat is bevezetni:\n",
    "\n",
    "```py\n",
    "if ch in 'aeiou':\n",
    "    print('mgh')\n",
    "elif ch in 'bcdfghjklmnpqrstvwxyz':\n",
    "    print('msh')\n",
    "else:\n",
    "    print('nem betű')\n",
    "```"
   ]
  },
  {
   "cell_type": "markdown",
   "metadata": {
    "slideshow": {
     "slide_type": "slide"
    }
   },
   "source": [
    "# 3. Ciklus\n",
    "\n",
    "Ugyan azt az utasítás sokszor hajtjuk végre:\n",
    "\n",
    "- amíg egy feltétel teljesül (`while`)\n",
    "- egy gyűjteményes adattípus minden elemére (`for`)"
   ]
  },
  {
   "cell_type": "markdown",
   "metadata": {
    "slideshow": {
     "slide_type": "subslide"
    }
   },
   "source": [
    "# 3. Ciklus (*while*)\n",
    "\n",
    "<br>\n",
    "\n",
    "```py\n",
    "while fizetes < 200000:\n",
    "    allast_keresek()\n",
    "```"
   ]
  },
  {
   "cell_type": "markdown",
   "metadata": {
    "slideshow": {
     "slide_type": "fragment"
    }
   },
   "source": [
    "Hasznosabb változat:\n",
    "\n",
    "```py\n",
    "x = 0\n",
    "while x < 10:\n",
    "    x += 1\n",
    "    print(x)\n",
    "```"
   ]
  },
  {
   "cell_type": "markdown",
   "metadata": {
    "slideshow": {
     "slide_type": "subslide"
    }
   },
   "source": [
    "# 3. Ciklus (*for*)\n",
    "\n",
    "Lista / tuple / halmaz bejárása:\n",
    "\n",
    "```py\n",
    "for i in container:\n",
    "    print(i)\n",
    "```"
   ]
  },
  {
   "cell_type": "markdown",
   "metadata": {
    "slideshow": {
     "slide_type": "fragment"
    }
   },
   "source": [
    "Szótár kulcsainak bejárása:\n",
    "\n",
    "```py\n",
    "for key in mydict:\n",
    "    print(key, mydict[key])\n",
    "```"
   ]
  },
  {
   "cell_type": "markdown",
   "metadata": {
    "slideshow": {
     "slide_type": "fragment"
    }
   },
   "source": [
    "Szótár kulcs-érték párjainak bejárása:\n",
    "\n",
    "```py\n",
    "for k, v in mydict.items():\n",
    "    print(k, v)\n",
    "```"
   ]
  },
  {
   "cell_type": "markdown",
   "metadata": {
    "slideshow": {
     "slide_type": "slide"
    }
   },
   "source": [
    "# Feladatok\n",
    "\n",
    "1. Keressük meg egy szöveg leghosszabb szavát!\n",
    "1. Legyen egy egész számokat tartalmazó listánk. Növeljük meg a lista minden elemét eggyel!\n",
    "1. Egy szöveget bontsunk szavakra. Töröljük az 'a'-val kezdődő szavakat.\n",
    "    - alakítsuk vissza a maradék listát szöveggé (l. [`str.join()`](https://docs.python.org/3/library/stdtypes.html#str.join))"
   ]
  },
  {
   "cell_type": "markdown",
   "metadata": {
    "slideshow": {
     "slide_type": "slide"
    }
   },
   "source": [
    "# De jó lenne, ha ma eljutnánk idáig!"
   ]
  }
 ],
 "metadata": {
  "celltoolbar": "Slideshow",
  "kernelspec": {
   "display_name": "Python 3",
   "language": "python",
   "name": "python3"
  },
  "language_info": {
   "codemirror_mode": {
    "name": "ipython",
    "version": 3
   },
   "file_extension": ".py",
   "mimetype": "text/x-python",
   "name": "python",
   "nbconvert_exporter": "python",
   "pygments_lexer": "ipython3",
   "version": "3.7.4"
  }
 },
 "nbformat": 4,
 "nbformat_minor": 2
}
