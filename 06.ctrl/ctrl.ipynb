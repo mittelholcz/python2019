{
 "cells": [
  {
   "cell_type": "markdown",
   "metadata": {
    "slideshow": {
     "slide_type": "slide"
    }
   },
   "source": [
    "# Vezérlési szerkezetek\n",
    "\n",
    "---\n",
    "\n",
    "(2019. 11. 05. – 6. óra)\n",
    "\n",
    "Mittelholcz Iván"
   ]
  },
  {
   "cell_type": "markdown",
   "metadata": {
    "slideshow": {
     "slide_type": "slide"
    }
   },
   "source": [
    "# Bevezető\n",
    "\n",
    "1. szekvencia\n",
    "1. elágazás\n",
    "1. ciklus"
   ]
  },
  {
   "cell_type": "markdown",
   "metadata": {
    "slideshow": {
     "slide_type": "slide"
    }
   },
   "source": [
    "# 1. Szekvencia\n",
    "\n",
    "Utasítások egymásutánja:\n",
    "\n",
    "```py\n",
    "utasitas1()\n",
    "utasitas2()\n",
    "```"
   ]
  },
  {
   "cell_type": "markdown",
   "metadata": {
    "slideshow": {
     "slide_type": "slide"
    }
   },
   "source": [
    "# 2. Elágazás\n",
    "\n",
    "Feltétel teljesülése esetén az egyik, nem teljesülése esetén egy másik utasítás fut le:\n",
    "\n",
    "```py\n",
    "if ch in 'aeiou':\n",
    "    print('mgh')\n",
    "else:\n",
    "    print('msh')\n",
    "```"
   ]
  },
  {
   "cell_type": "markdown",
   "metadata": {
    "slideshow": {
     "slide_type": "subslide"
    }
   },
   "source": [
    "# 2. Elágazás (folytatás)\n",
    "\n",
    "Az `else` ág opcionális (ha a feltétel nem teljesül, nem történik semmi):\n",
    "\n",
    "```py\n",
    "if uj_fizetes > 147000:\n",
    "    allast_valtok()\n",
    "```"
   ]
  },
  {
   "cell_type": "markdown",
   "metadata": {
    "slideshow": {
     "slide_type": "fragment"
    }
   },
   "source": [
    "Lehet kettőnél több ágat is bevezetni:\n",
    "\n",
    "```py\n",
    "if ch in 'aeiou':\n",
    "    print('mgh')\n",
    "elif ch in 'bcdfghjklmnpqrstvwxyz':\n",
    "    print('msh')\n",
    "else:\n",
    "    print('nem betű')\n",
    "```"
   ]
  },
  {
   "cell_type": "markdown",
   "metadata": {
    "slideshow": {
     "slide_type": "slide"
    }
   },
   "source": [
    "# 3. Ciklus\n",
    "\n",
    "Ugyan azt az utasítás sokszor hajtjuk végre:\n",
    "\n",
    "- amíg egy feltétel teljesül: `while`\n",
    "- egy gyűjteményes adattípus minden elemére: `for`"
   ]
  },
  {
   "cell_type": "markdown",
   "metadata": {
    "slideshow": {
     "slide_type": "subslide"
    }
   },
   "source": [
    "# 3.1. *while*-ciklus\n",
    "\n",
    "Álláskeresés:\n",
    "\n",
    "```py\n",
    "while fizetes < 200000:\n",
    "    allast_keresek()\n",
    "```"
   ]
  },
  {
   "cell_type": "markdown",
   "metadata": {
    "slideshow": {
     "slide_type": "fragment"
    }
   },
   "source": [
    "Számok kiírása:\n",
    "\n",
    "```py\n",
    "x = 0\n",
    "while x < 10:\n",
    "    x += 1\n",
    "    print(x)\n",
    "```"
   ]
  },
  {
   "cell_type": "markdown",
   "metadata": {
    "slideshow": {
     "slide_type": "subslide"
    }
   },
   "source": [
    "# 3.2. *for*-ciklus\n",
    "\n",
    "Lista / tuple / halmaz bejárása:\n",
    "\n",
    "```py\n",
    "for i in container:\n",
    "    print(i)\n",
    "```"
   ]
  },
  {
   "cell_type": "markdown",
   "metadata": {
    "slideshow": {
     "slide_type": "fragment"
    }
   },
   "source": [
    "Szótár kulcsainak bejárása:\n",
    "\n",
    "```py\n",
    "for key in mydict:\n",
    "    print(key, mydict[key])\n",
    "```"
   ]
  },
  {
   "cell_type": "markdown",
   "metadata": {
    "slideshow": {
     "slide_type": "fragment"
    }
   },
   "source": [
    "Szótár kulcs-érték párjainak bejárása:\n",
    "\n",
    "```py\n",
    "for k, v in mydict.items():\n",
    "    print(k, v)\n",
    "```"
   ]
  },
  {
   "cell_type": "markdown",
   "metadata": {
    "slideshow": {
     "slide_type": "subslide"
    }
   },
   "source": [
    "# 3.3. *continue*, *break*\n",
    "\n",
    "`continue`: Ugrás a ciklus következő lépésére\n",
    "\n",
    "```py\n",
    "for word in 'alma alma piros alma'.split():\n",
    "    if word.startswith('a'):\n",
    "        continue\n",
    "    print(word)\n",
    "```"
   ]
  },
  {
   "cell_type": "markdown",
   "metadata": {
    "slideshow": {
     "slide_type": "fragment"
    }
   },
   "source": [
    "`break`: kilépés a ciklusból\n",
    "\n",
    "```py\n",
    "for word in 'alma alma piros alma'.split():\n",
    "    if word == 'piros':\n",
    "        break\n",
    "    print(word)\n",
    "```"
   ]
  },
  {
   "cell_type": "markdown",
   "metadata": {
    "slideshow": {
     "slide_type": "skip"
    }
   },
   "source": [
    "# programozási tetelek\n",
    "\n",
    "1. összegzés\n",
    "    - közvetlenül (számok egy listában)\n",
    "    - közvetve (szavak hossza --> átlag)\n",
    "1. számlálás: hány elemre teljesül egy tulajdonság?\n",
    "1. maximum-keresés: leghosszabb szó\n",
    "1. feltételes maximum-keresés: leghosszabb magánhangzóval kezdődő szó\n",
    "1. lineáris keresés: keressük meg az első t-betűvel kezdődő szót egy szövegben\n",
    "1. logaritmikus keresés: keressük meg az első t-betűvel kezdőső szót egy rendezett listában\n",
    "1. rekurzió"
   ]
  },
  {
   "cell_type": "markdown",
   "metadata": {
    "slideshow": {
     "slide_type": "slide"
    }
   },
   "source": [
    "# Feladatok\n",
    "\n",
    "1. Legyen egy számokat tartalmazó listánk. Adjuk össze az elemeit!\n",
    "1. Legyen egy számokat tartalmazó listánk. Mennyi a számok átlaga?\n",
    "1. Legyen egy szavakat tartalmazó listánk. Mekkora az átlagos szóhossz?\n",
    "\n",
    "---\n",
    "\n",
    "1. Legyen egy szavakat tartalmazó listánk. Hány szó kezdődik 'a'-val?\n",
    "1. Legyen egy szavakat tartalmazó listánk. Hány szó kezdődik magánhangzóval?\n",
    "\n",
    "---\n",
    "\n",
    "1. Legyen egy szavakat tartalmazó listánk. Mely szavak kezdődnek 'a'-val? \n",
    "1. Legyen egy szavakat tartalmazó listánk. Mely szavak kezdődnek magánhangzóval?\n",
    "\n",
    "---\n",
    "\n",
    "1. Legyen egy szövegünk. Melyik a leghosszabb szava?\n",
    "1. Legyen egy szövegünk. Melyik a legtöbbféle betűt tartalmazó szava?\n",
    "1. Legyen egy szövegünk. Melyik a leghosszabb, magánhangzóval kezdődő szó?\n"
   ]
  },
  {
   "cell_type": "markdown",
   "metadata": {
    "slideshow": {
     "slide_type": "subslide"
    }
   },
   "source": [
    "# További feladatok\n",
    "\n",
    "* Mi a közös a fenti feladatcsoportokban?\n",
    "* Legyen egy egész számokat tartalmazó listánk. Növeljük meg a lista minden elemét eggyel!\n",
    "* Legyen egy szövegünk. Számoljunk szógyakoriságot. Az eredményt tároljuk egy szótárban (`{szó: előfordulás}`).\n",
    "    * Próbáljuk meg kiiratni a szótár elemeit gyakoriság szerint csökkenő sorrendben!\n",
    "    * Írjuk ki a relatív gyakoriságot!"
   ]
  },
  {
   "cell_type": "markdown",
   "metadata": {
    "slideshow": {
     "slide_type": "slide"
    }
   },
   "source": [
    "# De jó lenne, ha ma eljutnánk idáig! (Vége.)"
   ]
  }
 ],
 "metadata": {
  "celltoolbar": "Slideshow",
  "kernelspec": {
   "display_name": "Python 3",
   "language": "python",
   "name": "python3"
  },
  "language_info": {
   "codemirror_mode": {
    "name": "ipython",
    "version": 3
   },
   "file_extension": ".py",
   "mimetype": "text/x-python",
   "name": "python",
   "nbconvert_exporter": "python",
   "pygments_lexer": "ipython3",
   "version": "3.7.5"
  }
 },
 "nbformat": 4,
 "nbformat_minor": 2
}
