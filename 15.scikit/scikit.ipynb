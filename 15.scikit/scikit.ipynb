{
 "cells": [
  {
   "cell_type": "markdown",
   "metadata": {},
   "source": [
    "# Gépi tanulás\n",
    "\n",
    "---\n",
    "\n",
    "(2020. 02. 11. – 15. óra)\n",
    "\n",
    "Mittelholcz Iván"
   ]
  },
  {
   "cell_type": "markdown",
   "metadata": {},
   "source": [
    "## 1. Mi a gépi tanulás?"
   ]
  },
  {
   "cell_type": "markdown",
   "metadata": {},
   "source": [
    "### 1.1. Fajtái\n",
    "\n",
    "- kimenet szerint:\n",
    "    - osztályozás: diszkrét kategóriák sorolás vagy címkézés (pl. spam vagy nem spam, setosa, versicolor vagy virginica, stb.)\n",
    "    - regresszió: folytonos kimenet (pl hány fok lesz)\n",
    "- bemenet szerint:\n",
    "    - felügyelt: tanulás során látja a megfejtést\n",
    "    - felügyelet nélküli: nincs plusz adat"
   ]
  },
  {
   "cell_type": "markdown",
   "metadata": {},
   "source": [
    "### 1.2. Felügyelt osztályozás\n",
    "\n",
    "1. Az adatok előkészítése:\n",
    "    - Szerzünk / csinálunk egy nagy kupac adatot (*feature matrix*), amit felcímkézünk (*target vector*). Ez lesz a gold standard.\n",
    "    - Felbontjuk az adatot egy nagyobb részre, amin tanítjuk a rendszert (tanítóadat), és egy kisebbre, amin tesztelünk / kiértékelünk. Vagy használhatunk [*cross validation*](https://en.wikipedia.org/wiki/Cross-validation_(statistics))-t is.\n",
    "1. Kiválasztunk egyet a sok lehetséges módszer (döntési fa, SVM, Naive Bayes, neurális hálók, stb.) közül. \n",
    "1. Paraméterezzük a módszerünket.\n",
    "1. Tanítunk a tanítóadaton, azaz megmutatjuk a gépnek a tulajdonságokat is és a címkéket is (model).\n",
    "1. Kiértékelünk, azaz a tesztadatnak megmutatjuk a tulajdonságokat a teszadatból, és megkérjük, hogy tippelje meg a címkéket.\n",
    "    - Ha nem vagyunk elégedettek, vagy az adaton, vagy a módszeren kell javítani és újratanítani.\n",
    "1. Ha elégedettek vagyunk, használjuk a modelt."
   ]
  },
  {
   "cell_type": "markdown",
   "metadata": {},
   "source": [
    "## 2. Scikit-learn"
   ]
  },
  {
   "cell_type": "markdown",
   "metadata": {},
   "source": [
    "Várt adatok:\n",
    "\n",
    "* feature-mátrix:\n",
    "    * egy sor = egy példány\n",
    "    * egy oszlop = egy feature\n",
    "    * általában *X*-el jelölik\n",
    "    * Numpy *array* vagy pandas *DataFrame* típusúban kell megadni\n",
    "* target-vektor:\n",
    "    * egy sor = egy példány, minden eleme megfelel a *feature-mátrix* egy sorának\n",
    "    * általában *y*-nal jelölik\n",
    "    * Numpy *array* vagy pandas *Series* tipusú lehet\n",
    "    * csak a felügyelt tanuláshoz kell"
   ]
  },
  {
   "cell_type": "markdown",
   "metadata": {},
   "source": [
    "Lépések:\n",
    "\n",
    "1. adatok előkészítése (X, y, train, test)\n",
    "2. módszer választása: `form sklearn.xyz_modul import választott_módszer`\n",
    "3. modell létrehozása: `model = valasztott_modszer(paraméterek...)`\n",
    "4. tanítás: `model.fit(X, y)`\n",
    "6. kiértékelés: ehhez az `sklearn.metrics`-ben vannak hasznos dolgok \n",
    "5. modell használata: `model.predict(new_X)`"
   ]
  },
  {
   "cell_type": "markdown",
   "metadata": {},
   "source": [
    "Gépi tanulós *hello world*: iriszek három osztályba sorolása levélméreteik alapján.\n",
    "\n",
    "**jegyek**: *sepal_length*, *sepal_width*, *petal_length*, *petal_width*\n",
    "\n",
    "**címkék**: *setosa*, *versicolor*, *virginica*"
   ]
  },
  {
   "cell_type": "markdown",
   "metadata": {},
   "source": [
    "### 2.1. adatok előkészítése"
   ]
  },
  {
   "cell_type": "code",
   "execution_count": null,
   "metadata": {},
   "outputs": [],
   "source": [
    "# adatok beolvasása\n",
    "import pandas as pd\n",
    "\n",
    "path = ! [ -d 'iris.tsv' ] && echo 'iris.tsv' || echo '../13.pandas/iris.tsv'\n",
    "df = pd.read_csv(path[0], sep='\\t', index_col=0)\n",
    "df.head()"
   ]
  },
  {
   "cell_type": "code",
   "execution_count": null,
   "metadata": {},
   "outputs": [],
   "source": [
    "# feature-mátrix\n",
    "X = df.drop('species', axis=1)\n",
    "X.head()"
   ]
  },
  {
   "cell_type": "code",
   "execution_count": null,
   "metadata": {},
   "outputs": [],
   "source": [
    "# target-vektor\n",
    "y = df['species']\n",
    "y.head()"
   ]
  },
  {
   "cell_type": "code",
   "execution_count": null,
   "metadata": {},
   "outputs": [],
   "source": [
    "# adatok vágása tanításhoz és teszteléshez\n",
    "from sklearn.model_selection import train_test_split\n",
    "\n",
    "X_train, X_test, y_train, y_test = train_test_split(X, y)\n",
    "print(len(X_train), len(y_train), len(X_test), len(y_test))\n",
    "# X_train"
   ]
  },
  {
   "cell_type": "markdown",
   "metadata": {},
   "source": [
    "### 2.2. módszer választása"
   ]
  },
  {
   "cell_type": "markdown",
   "metadata": {},
   "source": [
    "Naiv Bayes módszerek:\n",
    "\n",
    "* egyszerűek, nem nagyon kell paraméterezni\n",
    "* gyorsak\n",
    "* feltevés, hogy a jegyek függetlenek egymástól"
   ]
  },
  {
   "cell_type": "code",
   "execution_count": null,
   "metadata": {},
   "outputs": [],
   "source": [
    "from sklearn.naive_bayes import GaussianNB"
   ]
  },
  {
   "cell_type": "markdown",
   "metadata": {},
   "source": [
    "### 2.3. modell létrehozása"
   ]
  },
  {
   "cell_type": "code",
   "execution_count": null,
   "metadata": {},
   "outputs": [],
   "source": [
    "model = GaussianNB() # itt lehetnek további megadandó paraméterek az iniciálizáláshoz, de most nincsenek"
   ]
  },
  {
   "cell_type": "markdown",
   "metadata": {},
   "source": [
    "### 2.4. tanítás"
   ]
  },
  {
   "cell_type": "code",
   "execution_count": null,
   "metadata": {},
   "outputs": [],
   "source": [
    "model.fit(X_train, y_train)"
   ]
  },
  {
   "cell_type": "markdown",
   "metadata": {},
   "source": [
    "### 2.5. jóslás"
   ]
  },
  {
   "cell_type": "code",
   "execution_count": null,
   "metadata": {},
   "outputs": [],
   "source": [
    "y_predicted = model.predict(X_test)\n",
    "# y_predicted"
   ]
  },
  {
   "cell_type": "markdown",
   "metadata": {},
   "source": [
    "### 2.6. kiértékelés"
   ]
  },
  {
   "cell_type": "code",
   "execution_count": null,
   "metadata": {},
   "outputs": [],
   "source": [
    "from sklearn.metrics import accuracy_score, classification_report\n",
    "\n",
    "print('accurcy: ', accuracy_score(y_test, y_predicted))\n",
    "print('\\nREPORT:')\n",
    "print(classification_report(y_test, y_predicted))"
   ]
  },
  {
   "cell_type": "code",
   "execution_count": null,
   "metadata": {},
   "outputs": [],
   "source": [
    "# confusion matrix\n",
    "import seaborn as sb\n",
    "import matplotlib.pyplot as plt\n",
    "from sklearn.metrics import confusion_matrix\n",
    "\n",
    "confmat = confusion_matrix(y_test, y_predicted)\n",
    "sb.heatmap(confmat, square=True, annot=True, cbar=False, \n",
    "           xticklabels=['setosa', 'versicolor', 'virginica'], \n",
    "           yticklabels=['setosa', 'versicolor', 'virginica'])\n",
    "plt.xlabel('predicted value')\n",
    "plt.ylabel('true value')"
   ]
  },
  {
   "cell_type": "markdown",
   "metadata": {},
   "source": [
    "### 2.7. Kitekintés\n",
    "\n",
    "* [felügyelt módszerek](http://scikit-learn.org/stable/supervised_learning.html)\n",
    "* [jegykinyerés szövegből](http://scikit-learn.org/stable/modules/feature_extraction.html#text-feature-extraction)\n",
    "* [grid search](http://scikit-learn.org/stable/modules/grid_search.html#exhaustive-grid-search)\n",
    "* [pipeline](http://scikit-learn.org/stable/modules/pipeline.html)"
   ]
  },
  {
   "cell_type": "markdown",
   "metadata": {},
   "source": [
    "## 3. Búcsúzóul\n",
    "\n",
    "![nng](https://raw.githubusercontent.com/mittelholcz/notes/3b953874c5604b8dadfee5522a7e85a80aa942ad/materia_ml/img/hanagyleszek.png)\n",
    "\n",
    "Forrás: <https://www.nng.com/hanagyleszek>"
   ]
  }
 ],
 "metadata": {
  "kernelspec": {
   "display_name": "Python 3",
   "language": "python",
   "name": "python3"
  },
  "language_info": {
   "codemirror_mode": {
    "name": "ipython",
    "version": 3
   },
   "file_extension": ".py",
   "mimetype": "text/x-python",
   "name": "python",
   "nbconvert_exporter": "python",
   "pygments_lexer": "ipython3",
   "version": "3.7.6"
  }
 },
 "nbformat": 4,
 "nbformat_minor": 2
}
