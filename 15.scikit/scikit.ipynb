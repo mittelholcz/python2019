{
 "cells": [
  {
   "cell_type": "markdown",
   "metadata": {},
   "source": [
    "# Gépi tanulás\n",
    "\n",
    "---\n",
    "\n",
    "(2020. 02. 11. – 15. óra)\n",
    "\n",
    "Mittelholcz Iván"
   ]
  },
  {
   "cell_type": "markdown",
   "metadata": {},
   "source": [
    "## Mi a gépi tanulás?\n",
    "\n",
    "![nng](https://raw.githubusercontent.com/mittelholcz/notes/3b953874c5604b8dadfee5522a7e85a80aa942ad/materia_ml/img/hanagyleszek.png)\n",
    "\n",
    "Forrás: <https://www.nng.com/hanagyleszek>"
   ]
  },
  {
   "cell_type": "markdown",
   "metadata": {},
   "source": [
    "## Fajtái\n",
    "\n",
    "- kimenet szerint:\n",
    "    - osztályozás: diszkrét kategóriák sorolás vagy címkézés (pl. spam vagy nem spam, setosa, versicolor vagy virginica, stb.)\n",
    "    - regresszió: folytonos kimenet (pl hány fok lesz)\n",
    "- bemenet szerint:\n",
    "    - felügyelt: tanulás során látja a megfejtést\n",
    "    - felügyelet nélküli: nincs plusz adat"
   ]
  },
  {
   "cell_type": "markdown",
   "metadata": {},
   "source": [
    "## Felügyelt osztályozás\n",
    "\n",
    "1. Szerzünk / csinálunk egy nagy kupac adatot (*feature matrix*), amit felcímkézünk (*target vector*). Ez lesz a gold standard.\n",
    "1. Felbontjuk az adatot egy nagyobb részre, amin tanítjuk a rendszert (tanítóadat), és egy kisebbre, amin tesztelünk / kiértékelünk.\n",
    "    - ennek egy változata a [*cross validation*](https://en.wikipedia.org/wiki/Cross-validation_(statistics))\n",
    "1. Kiválasztunk egyet a sok lehetséges módszer (döntési fa, SVM, Naive Bayes, neurális hálók, stb.) közül. Paraméterezzük a módszerünket.\n",
    "1. Tanítunk a tanítóadaton, azaz megmutatjuk a gépnek a tulajdonságokat is és a címkéket is.\n",
    "1. Kiértékelünk, azaz a tesztadatnak megmutatjuk a tulajdonságokat a teszadatból, és megkérjük, hogy tippelje meg a címkéket."
   ]
  },
  {
   "cell_type": "code",
   "execution_count": 3,
   "metadata": {},
   "outputs": [],
   "source": [
    "# íriszadatbázis beolvasása\n",
    "import pandas as pd\n",
    "\n",
    "path = ! [ -d 'iris.tsv' ] && echo 'iris.tsv' || echo '../13.pandas/iris.tsv'\n",
    "df = pd.read_csv(path[0], sep='\\t', index_col=0)\n",
    "# df"
   ]
  },
  {
   "cell_type": "code",
   "execution_count": 6,
   "metadata": {},
   "outputs": [
    {
     "data": {
      "text/html": [
       "<div>\n",
       "<style scoped>\n",
       "    .dataframe tbody tr th:only-of-type {\n",
       "        vertical-align: middle;\n",
       "    }\n",
       "\n",
       "    .dataframe tbody tr th {\n",
       "        vertical-align: top;\n",
       "    }\n",
       "\n",
       "    .dataframe thead th {\n",
       "        text-align: right;\n",
       "    }\n",
       "</style>\n",
       "<table border=\"1\" class=\"dataframe\">\n",
       "  <thead>\n",
       "    <tr style=\"text-align: right;\">\n",
       "      <th></th>\n",
       "      <th>sepal_length</th>\n",
       "      <th>sepal_width</th>\n",
       "      <th>petal_length</th>\n",
       "      <th>petal_width</th>\n",
       "    </tr>\n",
       "    <tr>\n",
       "      <th>ID</th>\n",
       "      <th></th>\n",
       "      <th></th>\n",
       "      <th></th>\n",
       "      <th></th>\n",
       "    </tr>\n",
       "  </thead>\n",
       "  <tbody>\n",
       "    <tr>\n",
       "      <th>1</th>\n",
       "      <td>5.1</td>\n",
       "      <td>3.5</td>\n",
       "      <td>1.4</td>\n",
       "      <td>0.2</td>\n",
       "    </tr>\n",
       "    <tr>\n",
       "      <th>2</th>\n",
       "      <td>4.9</td>\n",
       "      <td>3.0</td>\n",
       "      <td>1.4</td>\n",
       "      <td>0.2</td>\n",
       "    </tr>\n",
       "    <tr>\n",
       "      <th>3</th>\n",
       "      <td>4.7</td>\n",
       "      <td>3.2</td>\n",
       "      <td>1.3</td>\n",
       "      <td>0.2</td>\n",
       "    </tr>\n",
       "    <tr>\n",
       "      <th>4</th>\n",
       "      <td>4.6</td>\n",
       "      <td>3.1</td>\n",
       "      <td>1.5</td>\n",
       "      <td>0.2</td>\n",
       "    </tr>\n",
       "    <tr>\n",
       "      <th>5</th>\n",
       "      <td>5.0</td>\n",
       "      <td>3.6</td>\n",
       "      <td>1.4</td>\n",
       "      <td>0.2</td>\n",
       "    </tr>\n",
       "    <tr>\n",
       "      <th>...</th>\n",
       "      <td>...</td>\n",
       "      <td>...</td>\n",
       "      <td>...</td>\n",
       "      <td>...</td>\n",
       "    </tr>\n",
       "    <tr>\n",
       "      <th>146</th>\n",
       "      <td>6.7</td>\n",
       "      <td>3.0</td>\n",
       "      <td>5.2</td>\n",
       "      <td>2.3</td>\n",
       "    </tr>\n",
       "    <tr>\n",
       "      <th>147</th>\n",
       "      <td>6.3</td>\n",
       "      <td>2.5</td>\n",
       "      <td>5.0</td>\n",
       "      <td>1.9</td>\n",
       "    </tr>\n",
       "    <tr>\n",
       "      <th>148</th>\n",
       "      <td>6.5</td>\n",
       "      <td>3.0</td>\n",
       "      <td>5.2</td>\n",
       "      <td>2.0</td>\n",
       "    </tr>\n",
       "    <tr>\n",
       "      <th>149</th>\n",
       "      <td>6.2</td>\n",
       "      <td>3.4</td>\n",
       "      <td>5.4</td>\n",
       "      <td>2.3</td>\n",
       "    </tr>\n",
       "    <tr>\n",
       "      <th>150</th>\n",
       "      <td>5.9</td>\n",
       "      <td>3.0</td>\n",
       "      <td>5.1</td>\n",
       "      <td>1.8</td>\n",
       "    </tr>\n",
       "  </tbody>\n",
       "</table>\n",
       "<p>150 rows × 4 columns</p>\n",
       "</div>"
      ],
      "text/plain": [
       "     sepal_length  sepal_width  petal_length  petal_width\n",
       "ID                                                       \n",
       "1             5.1          3.5           1.4          0.2\n",
       "2             4.9          3.0           1.4          0.2\n",
       "3             4.7          3.2           1.3          0.2\n",
       "4             4.6          3.1           1.5          0.2\n",
       "5             5.0          3.6           1.4          0.2\n",
       "..            ...          ...           ...          ...\n",
       "146           6.7          3.0           5.2          2.3\n",
       "147           6.3          2.5           5.0          1.9\n",
       "148           6.5          3.0           5.2          2.0\n",
       "149           6.2          3.4           5.4          2.3\n",
       "150           5.9          3.0           5.1          1.8\n",
       "\n",
       "[150 rows x 4 columns]"
      ]
     },
     "execution_count": 6,
     "metadata": {},
     "output_type": "execute_result"
    }
   ],
   "source": [
    "# feature-mátrix\n",
    "X = df.drop('species', axis=1)\n",
    "X"
   ]
  },
  {
   "cell_type": "code",
   "execution_count": 8,
   "metadata": {},
   "outputs": [
    {
     "data": {
      "text/plain": [
       "ID\n",
       "1         setosa\n",
       "2         setosa\n",
       "3         setosa\n",
       "4         setosa\n",
       "5         setosa\n",
       "         ...    \n",
       "146    virginica\n",
       "147    virginica\n",
       "148    virginica\n",
       "149    virginica\n",
       "150    virginica\n",
       "Name: species, Length: 150, dtype: object"
      ]
     },
     "execution_count": 8,
     "metadata": {},
     "output_type": "execute_result"
    }
   ],
   "source": [
    "# target-vektor\n",
    "y = df['species']\n",
    "y"
   ]
  },
  {
   "cell_type": "markdown",
   "metadata": {},
   "source": [
    "## 1. Scikit-learn"
   ]
  },
  {
   "cell_type": "markdown",
   "metadata": {},
   "source": [
    "### 1.1. Python csomagok gépi tanuláshoz"
   ]
  },
  {
   "cell_type": "markdown",
   "metadata": {},
   "source": [
    "* [numpy](http://www.numpy.org/): matematikai számítások, lineáris algebra\n",
    "* [scipy](https://www.scipy.org/): numpy-ra épülő, tudományos számítások\n",
    "* [matplotlib](https://matplotlib.org/), [seaborn](https://seaborn.pydata.org/): adatvizualizáció, plottolás\n",
    "* [pandas](http://pandas.pydata.org/): dataframe adatszerkezet adatok kezeléséhez\n",
    "* [scikit-learn](http://scikit-learn.org/stable/): gépitanulás"
   ]
  },
  {
   "cell_type": "markdown",
   "metadata": {},
   "source": [
    "### 1.2. Scikit-learn bevezető"
   ]
  },
  {
   "cell_type": "markdown",
   "metadata": {},
   "source": [
    "Várt adatok:\n",
    "\n",
    "* feature-mátrix:\n",
    "    * egy sor = egy példány\n",
    "    * egy oszlop = egy feature\n",
    "    * általában *X*-el jelölik\n",
    "    * Numpy *array* vagy pandas *DataFrame* típusúban kell megadni\n",
    "* target-vektor:\n",
    "    * egy sor = egy példány, minden eleme megfelel a *feature-mátrix* egy sorának\n",
    "    * általában *y*-nal jelölik\n",
    "    * Numpy *array* vagy pandas *Series* tipusú lehet\n",
    "    * csak a felügyelt tanuláshoz kell"
   ]
  },
  {
   "cell_type": "markdown",
   "metadata": {},
   "source": [
    "Lépések:\n",
    "\n",
    "1. adatok előkészítése (X, y, train, test)\n",
    "2. módszer választása: `form sklearn.xyz_modul import választott_módszer`\n",
    "3. modell létrehozása: `model = valasztott_modszer(paraméterek...)`\n",
    "4. tanítás: `model.fit(X, y)`\n",
    "5. modell használata: `model.predict(new_X)`\n",
    "6. kiértékelés (ha van target-vektorunk *new_X*-hez): ehhez az `sklearn.metrics`-ben vannak hasznos dolgok \n"
   ]
  },
  {
   "cell_type": "markdown",
   "metadata": {},
   "source": [
    "### 1.3. Példa"
   ]
  },
  {
   "cell_type": "markdown",
   "metadata": {},
   "source": [
    "Gépi tanulós *hello world*: iriszek három osztályba sorolása levélméreteik alapján."
   ]
  },
  {
   "cell_type": "markdown",
   "metadata": {},
   "source": [
    "<img src=\"https://www.math.umd.edu/~petersd/666/html/iris_with_labels.jpg\" />"
   ]
  },
  {
   "cell_type": "markdown",
   "metadata": {},
   "source": [
    "**jegyek**: *sepal_length*, *sepal_width*, *petal_length*, *petal_width*\n",
    "\n",
    "**címkék**: *setosa*, *versicolor*, *virginica*"
   ]
  },
  {
   "cell_type": "markdown",
   "metadata": {},
   "source": [
    "#### 1. adatok előkészítése"
   ]
  },
  {
   "cell_type": "code",
   "execution_count": null,
   "metadata": {},
   "outputs": [],
   "source": [
    "# adatkupac beszerzése\n",
    "import seaborn as sb\n",
    "iris = sb.load_dataset('iris')\n",
    "print(iris.__class__.__name__)\n",
    "print(iris.shape)\n",
    "print(iris.head(5))"
   ]
  },
  {
   "cell_type": "code",
   "execution_count": null,
   "metadata": {},
   "outputs": [],
   "source": [
    "# feature-mátrix\n",
    "X = iris.drop('species', axis=1)\n",
    "print(X.head())"
   ]
  },
  {
   "cell_type": "code",
   "execution_count": null,
   "metadata": {},
   "outputs": [],
   "source": [
    "# tareget-vektor\n",
    "y = iris['species']\n",
    "print(y.head())"
   ]
  },
  {
   "cell_type": "code",
   "execution_count": null,
   "metadata": {},
   "outputs": [],
   "source": [
    "# adatok vágása tanításhoz és teszteléshez\n",
    "from sklearn.model_selection import train_test_split\n",
    "\n",
    "X_train, X_test, y_train, y_test = train_test_split(X, y)\n",
    "print(len(X_train), len(y_train), len(X_test), len(y_test))"
   ]
  },
  {
   "cell_type": "markdown",
   "metadata": {},
   "source": [
    "#### 2. módszer választása"
   ]
  },
  {
   "cell_type": "markdown",
   "metadata": {},
   "source": [
    "Naiv Bayes módszerek:\n",
    "\n",
    "* egyszerűek, nem nagyon kell paraméterezni\n",
    "* gyorsak\n",
    "* feltevés, hogy a jegyek függetlenek egymástól"
   ]
  },
  {
   "cell_type": "code",
   "execution_count": null,
   "metadata": {},
   "outputs": [],
   "source": [
    "from sklearn.naive_bayes import GaussianNB"
   ]
  },
  {
   "cell_type": "markdown",
   "metadata": {},
   "source": [
    "#### 3. modell létrehozása"
   ]
  },
  {
   "cell_type": "code",
   "execution_count": null,
   "metadata": {},
   "outputs": [],
   "source": [
    "model = GaussianNB() # itt lehetnek további megadandó paraméterek az iniciálizáláshoz, de most nincsenek"
   ]
  },
  {
   "cell_type": "markdown",
   "metadata": {},
   "source": [
    "#### 4. tanítás"
   ]
  },
  {
   "cell_type": "code",
   "execution_count": null,
   "metadata": {},
   "outputs": [],
   "source": [
    "model.fit(X_train, y_train)"
   ]
  },
  {
   "cell_type": "markdown",
   "metadata": {},
   "source": [
    "#### 5. jóslás"
   ]
  },
  {
   "cell_type": "code",
   "execution_count": null,
   "metadata": {},
   "outputs": [],
   "source": [
    "y_predicted = model.predict(X_test)"
   ]
  },
  {
   "cell_type": "markdown",
   "metadata": {},
   "source": [
    "#### 6. kiértékelés"
   ]
  },
  {
   "cell_type": "code",
   "execution_count": null,
   "metadata": {},
   "outputs": [],
   "source": [
    "from sklearn.metrics import accuracy_score, classification_report\n",
    "\n",
    "print('accurcy: ', accuracy_score(y_test, y_predicted))\n",
    "print('\\nREPORT:')\n",
    "print(classification_report(y_test, y_predicted))"
   ]
  },
  {
   "cell_type": "code",
   "execution_count": null,
   "metadata": {},
   "outputs": [],
   "source": [
    "# confusion matrix\n",
    "import matplotlib.pyplot as plt\n",
    "from sklearn.metrics import confusion_matrix\n",
    "\n",
    "confmat = confusion_matrix(y_test, y_predicted)\n",
    "sb.heatmap(confmat, square=True, annot=True, cbar=False, \n",
    "           xticklabels=['setosa', 'versicolor', 'virginica'], \n",
    "           yticklabels=['setosa', 'versicolor', 'virginica'])\n",
    "plt.xlabel('predicted value')\n",
    "plt.ylabel('true value')"
   ]
  },
  {
   "cell_type": "markdown",
   "metadata": {},
   "source": [
    "### 1.4. Kitekintés"
   ]
  },
  {
   "cell_type": "markdown",
   "metadata": {},
   "source": [
    "* [felügyelt módszerek](http://scikit-learn.org/stable/supervised_learning.html)\n",
    "* [jegykinyerés szövegből](http://scikit-learn.org/stable/modules/feature_extraction.html#text-feature-extraction)\n",
    "* [grid search](http://scikit-learn.org/stable/modules/grid_search.html#exhaustive-grid-search)\n",
    "* [pipeline](http://scikit-learn.org/stable/modules/pipeline.html)"
   ]
  },
  {
   "cell_type": "markdown",
   "metadata": {},
   "source": [
    "## 2. Huntag3"
   ]
  },
  {
   "cell_type": "markdown",
   "metadata": {},
   "source": [
    "### 2.1. Előkészületek"
   ]
  },
  {
   "cell_type": "markdown",
   "metadata": {},
   "source": [
    "* [HunTag3](https://github.com/ppke-nlpg/HunTag3) letöltése\n",
    "* kitömörítése"
   ]
  },
  {
   "cell_type": "code",
   "execution_count": null,
   "metadata": {},
   "outputs": [],
   "source": [
    "%%bash\n",
    "\n",
    "wget -q -c https://github.com/ppke-nlpg/HunTag3/archive/master.zip\n",
    "unzip -q -u master.zip"
   ]
  },
  {
   "cell_type": "markdown",
   "metadata": {},
   "source": [
    "### 2.2. Adatok"
   ]
  },
  {
   "cell_type": "markdown",
   "metadata": {},
   "source": [
    "Forrás: http://hlt.sztaki.hu/resources/hunnerwiki.html\n",
    "\n",
    "Oszlopok:\n",
    "\n",
    "1. **token**\n",
    "2. egyértelműsített morfológiai elemzés (KR kód)\n",
    "3. lemma\n",
    "4. **gold standard**"
   ]
  },
  {
   "cell_type": "code",
   "execution_count": null,
   "metadata": {
    "scrolled": true
   },
   "outputs": [],
   "source": [
    "!head -n 13 huwiki.ner.sample.train.tsv"
   ]
  },
  {
   "cell_type": "markdown",
   "metadata": {},
   "source": [
    "### 2.3. Features"
   ]
  },
  {
   "cell_type": "markdown",
   "metadata": {},
   "source": [
    "A *feature*-öket *on the fly* generáljuk a tanítás során rövid függvényekkel, melyek bemenetüket a TSV valamelyik oszlopából vehetik.\n",
    "\n",
    "Ezen függvények helye a *features.py* fájlban van. A HunTag3-mal jön egy alap *features.py*, ezt módosíthatjuk, vagy sajátot is írhatunk.\n",
    "\n",
    "Hogy milyen featur-öket akarunk használni, és melyik feature a TSV melyik oszlopát használja, azt az általunk írt konfigfájlban tudjuk megadni."
   ]
  },
  {
   "cell_type": "markdown",
   "metadata": {},
   "source": [
    "#### konfig"
   ]
  },
  {
   "cell_type": "markdown",
   "metadata": {},
   "source": [
    "A konfigurációs beállításokat [YAML](https://en.wikipedia.org/wiki/YAML) formátumban kell megadni.\n",
    "\n",
    "* *name*: a *most-informative-features* kimenetében ezen a néven jelenik meg a *feature*\n",
    "* *type*: lehet *token*, *sentence*, vagy *lex*, ezek a feature-ök függvényeinek is prefixei egyben\n",
    "* *actionName*: a függvény neve, *type* prefix nélkül\n",
    "    * *lex*: lexikai jegynél a lexikon elérési útját kell megadni\n",
    "* *fields*: TSV oszlop száma (0-ával kezdődik)"
   ]
  },
  {
   "cell_type": "code",
   "execution_count": null,
   "metadata": {},
   "outputs": [],
   "source": [
    "%%writefile HunTag3-master/myconf.yaml\n",
    "\n",
    "%YAML 1.1\n",
    "---\n",
    "default:\n",
    "  cutoff: 1  #  1 if not set\n",
    "  radius: 3  # -1 if not set\n",
    "\n",
    "features:\n",
    " - # szóalak\n",
    "    name: token\n",
    "    type: token\n",
    "    actionName: getToken\n",
    "    fields: 0\n",
    " - # morf elemzés\n",
    "    name: ana\n",
    "    type: token\n",
    "    actionName: getAna\n",
    "    fields: 1\n",
    " - # csupa nagybetű-e\n",
    "    name: isUpper\n",
    "    type: token\n",
    "    actionName: isUpper\n",
    "    fields: 0\n",
    "# - # org lista\n",
    "#    name: orglist\n",
    "#    type: lex\n",
    "#    actionName: hunner/lex_from_Eszter.Simon/org.fromtraincorpus.lex\n",
    "#    fields: 0\n",
    "# - # loc lista\n",
    "#    name: loclist\n",
    "#    type: lex\n",
    "#    actionName: hunner/lex_from_Eszter.Simon/loc.fromtraincorpus.lex\n",
    "#    fields: 0\n",
    "# - # misc lista\n",
    "#    name: misclist\n",
    "#    type: lex\n",
    "#    actionName: hunner/lex_from_Eszter.Simon/misc.fromtraincorpus.lex\n",
    "#    fields: 0\n",
    "# - # per lista\n",
    "#    name: perlist\n",
    "#    type: lex\n",
    "#    actionName: hunner/lex_from_Eszter.Simon/per.fromtraincorpus.lex\n",
    "#    fields: 0\n",
    "...\n",
    "\n"
   ]
  },
  {
   "cell_type": "markdown",
   "metadata": {},
   "source": [
    "#### features"
   ]
  },
  {
   "cell_type": "markdown",
   "metadata": {},
   "source": [
    "* egy feature-függvénynek listával kell visszatérnie\n",
    "* a *bool* típusú visszatérési értékeket konvertálni kell *int*-re"
   ]
  },
  {
   "cell_type": "code",
   "execution_count": null,
   "metadata": {},
   "outputs": [],
   "source": [
    "%%writefile HunTag3-master/features.py\n",
    "\n",
    "def token_isUpper(token, _=None):\n",
    "    return [int(token.isupper())]\n",
    "\n",
    "def token_getToken(token, _=None):\n",
    "    return [token]\n",
    "\n",
    "def token_getAna(ana, _=None):\n",
    "    return [ana]\n"
   ]
  },
  {
   "cell_type": "markdown",
   "metadata": {},
   "source": [
    "### 2.4. Tanítás"
   ]
  },
  {
   "cell_type": "markdown",
   "metadata": {},
   "source": [
    "#### megfigyelési modell"
   ]
  },
  {
   "cell_type": "code",
   "execution_count": null,
   "metadata": {},
   "outputs": [],
   "source": [
    "%%bash\n",
    "\n",
    "cd HunTag3-master/\n",
    "python3 huntag.py train -i ../huwiki.ner.sample.train.tsv -c myconf.yaml -m NER\n",
    "ls -l NER.model"
   ]
  },
  {
   "cell_type": "markdown",
   "metadata": {},
   "source": [
    "#### átmenet modell"
   ]
  },
  {
   "cell_type": "code",
   "execution_count": null,
   "metadata": {},
   "outputs": [],
   "source": [
    "%%bash\n",
    "\n",
    "cd HunTag3-master/\n",
    "python3 huntag.py transmodel-train -i ../huwiki.ner.sample.train.tsv -m NER"
   ]
  },
  {
   "cell_type": "markdown",
   "metadata": {},
   "source": [
    "### 2.5. Címkézés, tesztelés, kiértékelés"
   ]
  },
  {
   "cell_type": "markdown",
   "metadata": {},
   "source": [
    "### címkézés"
   ]
  },
  {
   "cell_type": "code",
   "execution_count": null,
   "metadata": {},
   "outputs": [],
   "source": [
    "%%bash\n",
    "\n",
    "cd HunTag3-master/\n",
    "python3 huntag.py tag -i ../huwiki.ner.sample.test.tsv -c myconf.yaml -m NER -o huwiki.ner.test.tagged.tsv"
   ]
  },
  {
   "cell_type": "markdown",
   "metadata": {},
   "source": [
    "#### kiértékelés"
   ]
  },
  {
   "cell_type": "code",
   "execution_count": null,
   "metadata": {},
   "outputs": [],
   "source": [
    "%%bash\n",
    "\n",
    "cd HunTag3-master/\n",
    "python3 utils/eval.py -c -m BI -i huwiki.ner.test.tagged.tsv"
   ]
  },
  {
   "cell_type": "markdown",
   "metadata": {},
   "source": [
    "### 2.6. Feladatok"
   ]
  },
  {
   "cell_type": "markdown",
   "metadata": {},
   "source": [
    "Implementáljatok pár új feature-t és értékeljétek ki ezekkel a ner-taggert.\n",
    "Az új feature-ök legyenek:\n",
    "\n",
    "* szófaj (része az elemzésnek a 2. oszlopban)\n",
    "* lemma (3. oszlop)\n",
    "* nagybetűvel kezdődik-e\n",
    "* van-e benne nagybetű"
   ]
  },
  {
   "cell_type": "markdown",
   "metadata": {},
   "source": [
    "#### konfig"
   ]
  },
  {
   "cell_type": "code",
   "execution_count": null,
   "metadata": {},
   "outputs": [],
   "source": [
    "%%writefile HunTag3-master/myconf.yaml\n",
    "\n",
    "%YAML 1.1\n",
    "---\n",
    "default:\n",
    "  cutoff: 1  #  1 if not set\n",
    "  radius: 3  # -1 if not set\n",
    "\n",
    "features:\n",
    " - # szóalak\n",
    "    name: token\n",
    "    type: token\n",
    "    actionName: getToken\n",
    "    fields: 0\n",
    " - # morf elemzés\n",
    "    name: ana\n",
    "    type: token\n",
    "    actionName: getAna\n",
    "    fields: 1\n",
    "# - # szófajkód\n",
    "#    name: pos\n",
    "#    type: ...\n",
    "#    actionName: getPos\n",
    "#    fields: ...\n",
    "#\n",
    "# - # lemma\n",
    "#    name: lem\n",
    "#    type: ...\n",
    "#    actionName: getLem\n",
    "#    fields: ...\n",
    " - # csupa nagybetű-e\n",
    "    name: isUpper\n",
    "    type: token\n",
    "    actionName: isUpper\n",
    "    fields: 0\n",
    "# - # nagybetűvel kezdődik-e\n",
    "#    name: isTitle\n",
    "#    type: ...\n",
    "#    actionName: isTitle\n",
    "#    fields: ...\n",
    "# - # van-e benne nagybetű\n",
    "#    name: hasUpper\n",
    "#    type: ...\n",
    "#    actionName: hasUpper\n",
    "#    fields: ...\n",
    "...\n",
    "\n"
   ]
  },
  {
   "cell_type": "markdown",
   "metadata": {},
   "source": [
    "#### features"
   ]
  },
  {
   "cell_type": "code",
   "execution_count": null,
   "metadata": {},
   "outputs": [],
   "source": [
    "%%writefile HunTag3-master/features.py\n",
    "\n",
    "\n",
    "def token_getToken(token, _=None):\n",
    "    return [token]\n",
    "\n",
    "def token_getAna(ana, _=None):\n",
    "    return [ana]\n",
    "\n",
    "#def token_getPos(ana, _=None):\n",
    "#    return ...\n",
    "\n",
    "#def token_getLem(lem, _=None):\n",
    "#    return ...\n",
    "\n",
    "def token_isUpper(token, _=None):\n",
    "    return [int(token.isupper())]\n",
    "\n",
    "#def token_isTitle(token, _=None):\n",
    "#    return ...\n",
    "\n",
    "#def token_hasUpper(token, _=None):\n",
    "#    return ...\n",
    "\n"
   ]
  },
  {
   "cell_type": "markdown",
   "metadata": {},
   "source": [
    "#### megfigyelési modell"
   ]
  },
  {
   "cell_type": "code",
   "execution_count": null,
   "metadata": {},
   "outputs": [],
   "source": [
    "%%bash\n",
    "\n",
    "cd HunTag3-master/\n",
    "python3 huntag.py train -i ../huwiki.ner.sample.train.tsv -c myconf.yaml -m NER\n",
    "ls -l NER.model"
   ]
  },
  {
   "cell_type": "markdown",
   "metadata": {},
   "source": [
    "#### átmenet modell"
   ]
  },
  {
   "cell_type": "code",
   "execution_count": null,
   "metadata": {},
   "outputs": [],
   "source": [
    "%%bash\n",
    "\n",
    "cd HunTag3-master/\n",
    "python3 huntag.py transmodel-train -i ../huwiki.ner.sample.train.tsv -m NER"
   ]
  },
  {
   "cell_type": "markdown",
   "metadata": {},
   "source": [
    "#### címkézés"
   ]
  },
  {
   "cell_type": "code",
   "execution_count": null,
   "metadata": {},
   "outputs": [],
   "source": [
    "%%bash\n",
    "\n",
    "cd HunTag3-master/\n",
    "python3 huntag.py tag -i ../huwiki.ner.sample.test.tsv -c myconf.yaml -m NER -o huwiki.ner.test.tagged.tsv"
   ]
  },
  {
   "cell_type": "markdown",
   "metadata": {},
   "source": [
    "#### kiértékelés"
   ]
  },
  {
   "cell_type": "code",
   "execution_count": null,
   "metadata": {},
   "outputs": [],
   "source": [
    "%%bash\n",
    "\n",
    "cd HunTag3-master/\n",
    "python3 utils/eval.py -c -m BI -i huwiki.ner.test.tagged.tsv"
   ]
  }
 ],
 "metadata": {
  "kernelspec": {
   "display_name": "Python 3",
   "language": "python",
   "name": "python3"
  },
  "language_info": {
   "codemirror_mode": {
    "name": "ipython",
    "version": 3
   },
   "file_extension": ".py",
   "mimetype": "text/x-python",
   "name": "python",
   "nbconvert_exporter": "python",
   "pygments_lexer": "ipython3",
   "version": "3.7.6"
  }
 },
 "nbformat": 4,
 "nbformat_minor": 2
}
