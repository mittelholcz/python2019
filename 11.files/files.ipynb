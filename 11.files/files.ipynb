{
 "cells": [
  {
   "cell_type": "markdown",
   "metadata": {
    "slideshow": {
     "slide_type": "slide"
    }
   },
   "source": [
    "# Szöveges fájlformátumok\n",
    "\n",
    "---\n",
    "\n",
    "(2020. 01. 07. – 11. óra)\n",
    "\n",
    "Mittelholcz Iván"
   ]
  },
  {
   "cell_type": "markdown",
   "metadata": {
    "slideshow": {
     "slide_type": "slide"
    }
   },
   "source": [
    "# 1. Plain text (TXT)"
   ]
  },
  {
   "cell_type": "markdown",
   "metadata": {
    "slideshow": {
     "slide_type": "subslide"
    }
   },
   "source": [
    "# 1.1. Plain text fájlok soronkénti feldolgozása (*filter*)\n",
    "\n",
    "Séma, a `process()` függvény változtatásával kb. bármilyen, soronként kezelhető problémára jó:\n",
    "\n",
    "```py\n",
    "inp = open('input.txt')\n",
    "out = open('output.txt', 'w')\n",
    "\n",
    "for line in inp:\n",
    "    line = line.strip()\n",
    "    if not line:\n",
    "        continue\n",
    "    res = process(line)\n",
    "    out.write(res)\n",
    "\n",
    "inp.close()\n",
    "out.close()\n",
    "```"
   ]
  },
  {
   "cell_type": "markdown",
   "metadata": {
    "slideshow": {
     "slide_type": "subslide"
    }
   },
   "source": [
    "# 1.2. Reguláris kifejezések\n",
    "\n",
    "Modul: `re`\n",
    "\n",
    "Dokumentáció: <https://docs.python.org/3/library/re.html>\n",
    "\n",
    "HOWTO: <https://docs.python.org/3/howto/regex.html#regex-howto>"
   ]
  },
  {
   "cell_type": "markdown",
   "metadata": {
    "slideshow": {
     "slide_type": "fragment"
    }
   },
   "source": [
    "A Python hajlamos a stringekben lecserélni dolgokat (pl. a \\n-t sortörésre, stb.). Hogy ne kelljen mindent kiiszképelni (sőt, az iszképelő backslash-t is iszképelni), ezért minták megadásánál érdemes ún. *raw string*-eket használni, pl. `raw = r'valami\\n'`"
   ]
  },
  {
   "cell_type": "markdown",
   "metadata": {
    "slideshow": {
     "slide_type": "subslide"
    }
   },
   "source": [
    "# 1.3. Keresés\n",
    "\n",
    "A `re.search(pattern, text)` függvény a megadott szövegben keresi a mintát. Ha van találat, akkor az első előfordulással tér vissza (ún. *match object*).\n",
    "\n",
    "Példa:\n",
    "\n",
    "```py\n",
    "import re\n",
    "m = re.search(r'(\\w+) (\\w+) (\\d+)?', 'ritkán rikkant a rigó')\n",
    "if m:\n",
    "    print(m.group(0)) # a teljes illeszkedő szövegrész (nem kell zárójelezve legyen)\n",
    "    print(m.group(1)) # 1-as csoport\n",
    "    print(m.group(2)) # 2-es csopot\n",
    "    print(m.group(3)) # 3-es csopot\n",
    "    print(m.group(1,2)) # tuple az 1-es és a 2-es csoportból\n",
    "```"
   ]
  },
  {
   "cell_type": "markdown",
   "metadata": {
    "slideshow": {
     "slide_type": "subslide"
    }
   },
   "source": [
    "# 1.3. Keresés (folyt.)\n",
    "\n",
    "A `re.findall(pattern, text)` függvény a megadott szövegben keresi a minta összes, nem átfedő előfordulását. Az előfordulások listájával tér vissza (ha nem voltak csoportok, akkor stringek listája, ha voltak, akkor tuple-ök listája).\n",
    "\n",
    "Példa:\n",
    "\n",
    "```py\n",
    "m = re.findall(r'((\\d+ )?\\w+)', '100 forintnak 50 a fele')\n",
    "print(m)\n",
    "# [('100 forintnak', '100 '), ('50 a', '50 '), ('fele', '')]\n",
    "```"
   ]
  },
  {
   "cell_type": "markdown",
   "metadata": {
    "slideshow": {
     "slide_type": "subslide"
    }
   },
   "source": [
    "# 1.4. Csere és törlés\n",
    "\n",
    "A `re.sub(pattern, replace, text)` függvény lecseréli a minta előfordulásait a szövegben és a módosított szöveggel tér vissza.\n",
    "\n",
    "A mintában lévő csoportokra `\\szám` formában lehet hivatkozni a csere-szövegben.\n",
    "\n",
    "```py\n",
    "new = re.sub(r'(\\d+)', r'\\1 db', '10 rigó rikkant')\n",
    "print(new)\n",
    "```"
   ]
  },
  {
   "cell_type": "markdown",
   "metadata": {
    "slideshow": {
     "slide_type": "subslide"
    }
   },
   "source": [
    "# 1.5. Mohóság\n",
    "\n",
    "Mohó operátorok: `*`, `+`, `?`\n",
    "\n",
    "Lusta operátorok: `*?`, `+?`, `??`\n",
    "\n",
    "```py\n",
    "string = 'xaaaxaaax'\n",
    "greedy = re.search(r'x.*x', string)\n",
    "lazy = re.search(r'x.*?x', string)\n",
    "print('mohó:', greedy.group())\n",
    "print('lusta:', lazy.group())\n",
    "```"
   ]
  },
  {
   "cell_type": "markdown",
   "metadata": {
    "slideshow": {
     "slide_type": "subslide"
    }
   },
   "source": [
    "# 1.6. Optimalizálás\n",
    "\n",
    "A mintából mindig egy objektum generálodik, ez költésges folyamat. A `re.compile(pattern)` függvénnyel elmenthetjük ezt az objektumot, később számtalanszor újrahasznosíthatjuk. Példa:\n",
    "\n",
    "```py\n",
    "pat = re.compile(pattern)\n",
    "result = pat.search(text)\n",
    "# ugyan az, mint a result = re.search(pattern, text)\n",
    "```\n",
    "\n",
    "Rossz gyakorlat:\n",
    "\n",
    "```py\n",
    "for line in inp:\n",
    "    result = re.findall(pattern, text)\n",
    "```\n",
    "\n",
    "Jó gyakorlat:\n",
    "\n",
    "```py\n",
    "p = re.compile(pattern)\n",
    "for line in inp:\n",
    "    result = p.findall(text)\n",
    "```"
   ]
  },
  {
   "cell_type": "markdown",
   "metadata": {
    "slideshow": {
     "slide_type": "subslide"
    }
   },
   "source": [
    "# 1.7. Feladatok\n",
    "\n",
    "- Írjunk egy függvényt, ami egy szöveget és egy pozitív egész számot vár paraméterként. A függvény adja vissza, hogy hány adott hosszúságú szó van a szövegben. Punktuációk sorozata nem számít szónak.\n",
    "- Írjunk egy függvényt, ami egy stringről eldönti, hogy a római szám-e! A neve legyen `is_roman_num(string)`, visszatérési értéke pedig boolean ([wiki](https://hu.wikipedia.org/wiki/R%C3%B3mai_sz%C3%A1m%C3%ADr%C3%A1s))."
   ]
  },
  {
   "cell_type": "markdown",
   "metadata": {
    "slideshow": {
     "slide_type": "slide"
    }
   },
   "source": [
    "# 2. CSV / TSV\n",
    "\n",
    "CSV: Coma Separated Values\n",
    "\n",
    "TSV: TAB Separated Values\n",
    "\n",
    "Egy sor = egy objektum, egy oszlop = egy tulajdonság, opcionálisan van egy fejléc, az oszlopok nevével.\n",
    "\n",
    "Példa:\n",
    "\n",
    "```txt\n",
    "Név     Fajta   Kor\n",
    "Pongó   dalmata 6\n",
    "Foltos  dalmata 0\n",
    "Ezredes bobtail 15\n",
    "Nózi    vizsla  14\n",
    "```"
   ]
  },
  {
   "cell_type": "markdown",
   "metadata": {
    "slideshow": {
     "slide_type": "subslide"
    }
   },
   "source": [
    "# 2.1. Olvasás\n",
    "\n",
    "Modul: `csv` (a TSV fájlokhoz is ezt használjuk)\n",
    "\n",
    "Dokumentáció: <https://docs.python.org/3/library/csv.html>\n",
    "\n",
    "Példa: TSV sorok beolvasása listába (`process`: listát feldolgozó függvény)\n",
    "\n",
    "```py\n",
    "import csv\n",
    "\n",
    "inp = open('input.tsv')\n",
    "reader = csv.reader(inp, delimiter='\\t')\n",
    "for row in reader:\n",
    "    process(row)\n",
    "```"
   ]
  },
  {
   "cell_type": "markdown",
   "metadata": {
    "slideshow": {
     "slide_type": "subslide"
    }
   },
   "source": [
    "# 2.2. Írás\n",
    "\n",
    "Példa: listák kiírása TSV fájlba (`data`: listák listája)\n",
    "\n",
    "```py\n",
    "import csv\n",
    "\n",
    "out = open('output.tsv')\n",
    "writer = csv.writer(out, delimiter='\\t')\n",
    "for row in data:\n",
    "    writer.writerow(row)\n",
    "```"
   ]
  },
  {
   "cell_type": "markdown",
   "metadata": {
    "slideshow": {
     "slide_type": "subslide"
    }
   },
   "source": [
    "# 2.3. Feladatok\n",
    "\n",
    "- Írjunk egy szkriptet, ami a `101.tsv` fájl alapján kiszámolja a kutyák átlagéletkorát.\n",
    "- Írjunk egy szkriptet, ami tetszőleges szöveges fájlból szógyakoriságot számol, az eredményt egy fejléces TSV fájlba írja ki."
   ]
  },
  {
   "cell_type": "markdown",
   "metadata": {
    "slideshow": {
     "slide_type": "slide"
    }
   },
   "source": [
    "# 3. XML / HTML\n",
    "\n",
    "TODO"
   ]
  },
  {
   "cell_type": "markdown",
   "metadata": {
    "slideshow": {
     "slide_type": "slide"
    }
   },
   "source": [
    "# Köszönöm a figyelmet"
   ]
  }
 ],
 "metadata": {
  "celltoolbar": "Slideshow",
  "kernelspec": {
   "display_name": "Python 3",
   "language": "python",
   "name": "python3"
  },
  "language_info": {
   "codemirror_mode": {
    "name": "ipython",
    "version": 3
   },
   "file_extension": ".py",
   "mimetype": "text/x-python",
   "name": "python",
   "nbconvert_exporter": "python",
   "pygments_lexer": "ipython3",
   "version": "3.7.5"
  }
 },
 "nbformat": 4,
 "nbformat_minor": 2
}
