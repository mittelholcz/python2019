{
 "cells": [
  {
   "cell_type": "markdown",
   "metadata": {},
   "source": [
    "# Csoportosítás, korreláció, vizualizáció (Pandas)\n",
    "\n",
    "---\n",
    "\n",
    "(2020. 02. 04. – 14. óra)\n",
    "\n",
    "Mittelholcz Iván"
   ]
  },
  {
   "cell_type": "code",
   "execution_count": null,
   "metadata": {},
   "outputs": [],
   "source": [
    "# íriszadatbázis beolvasása\n",
    "import pandas as pd\n",
    "\n",
    "path = ! [ -d 'iris.tsv' ] && echo 'iris.tsv' || echo '../13.pandas/iris.tsv'\n",
    "df = pd.read_csv(path[0], sep='\\t', index_col=0)\n",
    "df"
   ]
  },
  {
   "cell_type": "markdown",
   "metadata": {},
   "source": [
    "## 1. Csoportosítás (GroupBy)\n",
    "\n",
    "Az agregáló függvényeket (sum, min, max, mean, mode, std, stb.) nem csak a teljes táblára, vagy annak egyes oszlopaira lehet lekérni, hanem egy vagy több oszlop értékei szerint csoportosítva is.\n",
    "\n",
    "![kép](https://jakevdp.github.io/PythonDataScienceHandbook/figures/03.08-split-apply-combine.png)\n",
    "\n",
    "forrás: [VanderPlas, Jake: Python Data Science Handbook](https://jakevdp.github.io/PythonDataScienceHandbook/03.08-aggregation-and-grouping.html#Split,-apply,-combine)\n",
    "\n",
    "Pl. íriszek fajtái szerint vagyunk kíváncsiak az átlagos mértekre:"
   ]
  },
  {
   "cell_type": "markdown",
   "metadata": {},
   "source": [
    "### 1.1. Csoportosítás egy oszlop alapján"
   ]
  },
  {
   "cell_type": "code",
   "execution_count": null,
   "metadata": {},
   "outputs": [],
   "source": [
    "# a csoportosítás nem tábla, de táblaszerű\n",
    "df.groupby('species')"
   ]
  },
  {
   "cell_type": "code",
   "execution_count": null,
   "metadata": {},
   "outputs": [],
   "source": [
    "# a csoportosításnak van oszlopszerűsége, ami nem oszlop\n",
    "df.groupby('species')['sepal_width']"
   ]
  },
  {
   "cell_type": "code",
   "execution_count": null,
   "metadata": {},
   "outputs": [],
   "source": [
    "# viszont a tábla- ill. oszlopszerűségen is lehet aggregálni\n",
    "# tábla:\n",
    "df.groupby('species').mean()\n",
    "# egy oszlop:\n",
    "# df.groupby('species')['sepal_width'].mean()\n",
    "# több oszlop:\n",
    "# df.groupby('species')['sepal_length', 'sepal_width'].mean()"
   ]
  },
  {
   "cell_type": "code",
   "execution_count": null,
   "metadata": {},
   "outputs": [],
   "source": [
    "# Mi hiányzik? Miért hiányzik?\n",
    "df.groupby('species').mean()\n",
    "# df.groupby('sepal_width').mean()"
   ]
  },
  {
   "cell_type": "markdown",
   "metadata": {},
   "source": [
    "### 1.2. Csoportosítás több oszlop alapján"
   ]
  },
  {
   "cell_type": "code",
   "execution_count": null,
   "metadata": {},
   "outputs": [],
   "source": [
    "# sepal_width és species szerint csoportosítunk, számláljuk a cellák eredményeit\n",
    "print(df.groupby(['sepal_width', 'species'])['sepal_width'].count().head())\n",
    "# print(df.groupby(['sepal_width', 'species'])['species'].count().head())\n",
    "# Miért ugyanaz az eredmény?\n",
    "# df.groupby(['sepal_width', 'species']).count().head()"
   ]
  },
  {
   "cell_type": "markdown",
   "metadata": {},
   "source": [
    "## 2. Korreláció\n",
    "\n",
    "Lineáris kapcsolat (függőség / függetlenség) két változó között. Ha nincs korreláció, attól még lehet (nem lineáris) kapcsolat (pl. négyzetes).\n",
    "\n",
    "- $r$: mintabeli (Pearson-féle) korreláció\n",
    "- $-1 \\leq r \\leq 1$\n",
    "- $r = 0$: korrelálatlanok\n",
    "\n",
    "szintaxis (Pearson - deafult):\n",
    "\n",
    "```py\n",
    "df['oszlop1'].corr(df['oszlop2'])\n",
    "```\n",
    "\n",
    "Spearman:\n",
    "\n",
    "```py\n",
    "df['oszlop1'].corr(df['oszlop2'], method='spearman')\n",
    "```\n",
    "\n",
    "Kendall:\n",
    "\n",
    "```py\n",
    "df['oszlop1'].corr(df['oszlop2'], method='kendall')\n",
    "```"
   ]
  },
  {
   "cell_type": "code",
   "execution_count": null,
   "metadata": {},
   "outputs": [],
   "source": [
    "df['sepal_length'].corr(df['sepal_width'])"
   ]
  },
  {
   "cell_type": "code",
   "execution_count": null,
   "metadata": {},
   "outputs": [],
   "source": [
    "# setosa\n",
    "df.loc[1:50, :]['sepal_length'].corr(df.loc[1:50, :]['sepal_width'])"
   ]
  },
  {
   "cell_type": "code",
   "execution_count": null,
   "metadata": {},
   "outputs": [],
   "source": [
    "# versicolor\n",
    "df.loc[51:100, :]['sepal_length'].corr(df.loc[51:100, :]['sepal_width'])"
   ]
  },
  {
   "cell_type": "code",
   "execution_count": null,
   "metadata": {},
   "outputs": [],
   "source": [
    "# virginica\n",
    "df.loc[101:150, :]['sepal_length'].corr(df.loc[101:150, :]['sepal_width'])"
   ]
  },
  {
   "cell_type": "markdown",
   "metadata": {},
   "source": [
    "Korreláció is aggregál $\\rightarrow$ lehet csoportosítással használni:"
   ]
  },
  {
   "cell_type": "code",
   "execution_count": null,
   "metadata": {},
   "outputs": [],
   "source": [
    "df.groupby('species')['sepal_length'].corr(df['sepal_width'])"
   ]
  },
  {
   "cell_type": "code",
   "execution_count": null,
   "metadata": {},
   "outputs": [],
   "source": [
    "# Feladat: Mi van a petal_length és petal_width közötti kapcsolattal? (összes írisz és fajták szerint is)"
   ]
  },
  {
   "cell_type": "markdown",
   "metadata": {},
   "source": [
    "## 3. Vizualizáció\n",
    "\n",
    "Minden DataFrame-nek és minden oszlopnak (Series) (és minden GroupBy-nak) van `.plot()` metódusa, ami igazából a *matplotlib* modult hívja a háttérben.\n",
    "\n",
    "A `.plot()` alapból *line plot*-ot fog készíteni, ezt a `kind='típus'` opcionális paraméterrel tudjuk felülírni. Pl oszlopdiagram: `df.plot(kind='bar')` Lehetőségek:\n",
    "\n",
    "- `'line'`\n",
    "- `'bar'` és `'barh'`: függőleges és vízszintes oszlopdiagramm\n",
    "- `'pie'`: torta\n",
    "- `'hist'`: hisztogram\n",
    "- `'box'`: dobozos\n",
    "- `'scatter'`: pöttyös\n",
    "\n",
    "További opcionális paraméterek: [`pandas.DataFrame.plot`](https://pandas.pydata.org/pandas-docs/stable/reference/api/pandas.DataFrame.plot.html#pandas.DataFrame.plot)\n",
    "\n",
    "Ha még többet akar az ember, akkor közvetlenül a [`matplotlib`](https://matplotlib.org/contents.html)-et kell használni, vagy a [`seaborn`](https://seaborn.pydata.org/tutorial.html) csomagot."
   ]
  },
  {
   "cell_type": "code",
   "execution_count": null,
   "metadata": {},
   "outputs": [],
   "source": [
    "%matplotlib inline"
   ]
  },
  {
   "cell_type": "code",
   "execution_count": null,
   "metadata": {},
   "outputs": [],
   "source": [
    "df.plot()"
   ]
  },
  {
   "cell_type": "markdown",
   "metadata": {},
   "source": [
    "### 3.1. Egydimenziós adatok ábrázolása"
   ]
  },
  {
   "cell_type": "code",
   "execution_count": null,
   "metadata": {},
   "outputs": [],
   "source": [
    "df['sepal_length'].plot()"
   ]
  },
  {
   "cell_type": "code",
   "execution_count": null,
   "metadata": {},
   "outputs": [],
   "source": [
    "# boxplot (kvartilisek)\n",
    "df['sepal_length'].plot(kind='box')"
   ]
  },
  {
   "cell_type": "code",
   "execution_count": null,
   "metadata": {},
   "outputs": [],
   "source": [
    "# hisztogram\n",
    "df['sepal_length'].plot(kind='hist')"
   ]
  },
  {
   "cell_type": "code",
   "execution_count": null,
   "metadata": {},
   "outputs": [],
   "source": [
    "# hisztogram csoportokra\n",
    "df.groupby('species')['sepal_length'].plot(kind='hist')"
   ]
  },
  {
   "cell_type": "markdown",
   "metadata": {},
   "source": [
    "### 3.2. Kétdimenziós adatok ábrázolása\n",
    "\n",
    "Az $x$ és $y$ tengely megadható az `x='oszlop1'` és `y='oszlop2'` paraméterekkel"
   ]
  },
  {
   "cell_type": "code",
   "execution_count": null,
   "metadata": {},
   "outputs": [],
   "source": [
    "# szórásdiagram\n",
    "df.plot(x='sepal_length', y='sepal_width', kind='scatter', title='PLOTTTT')"
   ]
  },
  {
   "cell_type": "code",
   "execution_count": null,
   "metadata": {},
   "outputs": [],
   "source": [
    "# szórásdiagram csoportokra\n",
    "df.groupby('species').plot(x='sepal_length', y='sepal_width', kind='scatter')"
   ]
  },
  {
   "cell_type": "code",
   "execution_count": null,
   "metadata": {},
   "outputs": [],
   "source": [
    "# Feladat: Elemezzünk a petal_length és petal_width szórásdiagramokat (összes íriszre és a fajtákra is)!"
   ]
  },
  {
   "cell_type": "markdown",
   "metadata": {},
   "source": [
    "### 3.3. Többdimenziós adatok ábrázolása\n",
    "\n",
    "Több változó ábrázolásához a [`pandas.plotting`](https://pandas.pydata.org/pandas-docs/stable/reference/plotting.html) alcsomag függvényeit lehet használni."
   ]
  },
  {
   "cell_type": "code",
   "execution_count": null,
   "metadata": {},
   "outputs": [],
   "source": [
    "# szórásdiagram mátrix\n",
    "pd.plotting.scatter_matrix(df, figsize=(12, 9))"
   ]
  },
  {
   "cell_type": "code",
   "execution_count": null,
   "metadata": {},
   "outputs": [],
   "source": [
    "pd.plotting.radviz(df, 'species')"
   ]
  },
  {
   "cell_type": "markdown",
   "metadata": {},
   "source": [
    "## Irodalom\n",
    "\n",
    "- Hivatalos:\n",
    "    - [Dokumentáció](https://pandas.pydata.org/pandas-docs/stable/)\n",
    "    - [Getting started](https://pandas.pydata.org/pandas-docs/stable/getting_started/index.html)\n",
    "- [Real Python: Pandas](https://realpython.com/search?q=pandas)\n",
    "- [Downey, Allen B.: Think Stats](http://www.greenteapress.com/thinkstats/)\n",
    "- [VanderPlas, Jake: Python Data Science Handbook](https://jakevdp.github.io/PythonDataScienceHandbook/)"
   ]
  }
 ],
 "metadata": {
  "kernelspec": {
   "display_name": "Python 3",
   "language": "python",
   "name": "python3"
  },
  "language_info": {
   "codemirror_mode": {
    "name": "ipython",
    "version": 3
   },
   "file_extension": ".py",
   "mimetype": "text/x-python",
   "name": "python",
   "nbconvert_exporter": "python",
   "pygments_lexer": "ipython3",
   "version": "3.7.6"
  }
 },
 "nbformat": 4,
 "nbformat_minor": 2
}
