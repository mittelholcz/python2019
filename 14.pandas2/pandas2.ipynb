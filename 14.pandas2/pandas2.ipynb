{
 "cells": [
  {
   "cell_type": "markdown",
   "metadata": {},
   "source": [
    "# Csoportosítás, korreláció, vizualizáció (Pandas)\n",
    "\n",
    "---\n",
    "\n",
    "(2020. 02. 04. – 14. óra)\n",
    "\n",
    "Mittelholcz Iván"
   ]
  },
  {
   "cell_type": "code",
   "execution_count": null,
   "metadata": {},
   "outputs": [],
   "source": [
    "# íriszadatbázis beolvasása\n",
    "import pandas as pd\n",
    "\n",
    "df = pd.read_csv('../13.pandas/iris.tsv', sep='\\t', index_col=0)"
   ]
  },
  {
   "cell_type": "markdown",
   "metadata": {},
   "source": [
    "## 1. Csoportosítás\n",
    "\n",
    "Az agregáló függvényeket (sum, min, max, mean, mode, std, stb.) nem csak a teljes táblára, vagy annak egyes oszlopaira lehet lekérni, hanem egy vagy több oszlop értékei szerint csoportosítva is.\n",
    "\n",
    "![kép](https://jakevdp.github.io/PythonDataScienceHandbook/figures/03.08-split-apply-combine.png)\n",
    "\n",
    "forrás: [VanderPlas, Jake: Python Data Science Handbook](https://jakevdp.github.io/PythonDataScienceHandbook/03.08-aggregation-and-grouping.html#Split,-apply,-combine)\n",
    "\n",
    "Pl. íriszek fajtái szerint vagyunk kíváncsiak az átlagos mértekre:"
   ]
  },
  {
   "cell_type": "code",
   "execution_count": null,
   "metadata": {},
   "outputs": [],
   "source": [
    "# a csoportosítás nem tábla, de táblaszerű\n",
    "df.groupby('species')"
   ]
  },
  {
   "cell_type": "code",
   "execution_count": null,
   "metadata": {},
   "outputs": [],
   "source": [
    "# a csoportosítás nem tábla, de táblaszerű, van pl. oszlopszerűsége (ami nem oszlop)\n",
    "df.groupby('species')['sepal_width']"
   ]
  },
  {
   "cell_type": "code",
   "execution_count": null,
   "metadata": {},
   "outputs": [],
   "source": [
    "# viszont a tábla- ill. oszlopszerűségen is lehet aggregálni\n",
    "# tábla:\n",
    "df.groupby('species').mean()\n",
    "# egy oszlop:\n",
    "# df.groupby('species')['sepal_width'].mean()\n",
    "# több oszlop:\n",
    "# df.groupby('species')['sepal_length', 'sepal_width'].mean()"
   ]
  },
  {
   "cell_type": "code",
   "execution_count": null,
   "metadata": {},
   "outputs": [],
   "source": [
    "# Mi hiányzik? Miért hiányzik?\n",
    "df.groupby('species').mean()\n",
    "# df.groupby('sepal_width').mean()"
   ]
  },
  {
   "cell_type": "markdown",
   "metadata": {},
   "source": [
    "Csoportosítás több oszlop alapján"
   ]
  },
  {
   "cell_type": "code",
   "execution_count": null,
   "metadata": {},
   "outputs": [],
   "source": [
    "# sepal_width és species szerint csoportosítunk, számláljuk a cellák eredményeit\n",
    "df.groupby(['sepal_width', 'species'])['sepal_width'].count().head()\n",
    "# Miért ugyanaz az eredmény?\n",
    "# df.groupby(['sepal_width', 'species']).count().head()"
   ]
  },
  {
   "cell_type": "markdown",
   "metadata": {},
   "source": [
    "## 2. Korreláció\n",
    "\n",
    "Lineáris kapcsolat (függőség / függetlenség) két változó között. Ha nincs korreláció, attól még lehet (nem lineáris) kapcsolat (pl. négyzetes).\n",
    "\n",
    "Normális eloszlás: a valószínűségi változók, ha korrelálatlanok, akkor függetlenek is.\n",
    "\n",
    "Módszerek nem lineáris kapcsolatok kimutatására: kölcsönös információ, feltételes valószínűség\n",
    "\n",
    "- $\\rho$: populációbeli (elméleti) korreláció\n",
    "- $r$: mintabeli (Pearson-féle) korreláció\n",
    "- $-1 \\leq r \\leq 1$\n",
    "- $r = 0$: korrelálatlanok\n",
    "\n",
    "szintaxis (Pearson - deafult):\n",
    "\n",
    "```py\n",
    "df['oszlop1'].corr(df['oszlop2'])\n",
    "```\n",
    "\n",
    "Spearman:\n",
    "\n",
    "```py\n",
    "df['oszlop1'].corr(df['oszlop2'], method='kendall')\n",
    "```\n",
    "\n",
    "Kendall:\n",
    "\n",
    "```py\n",
    "df['oszlop1'].corr(df['oszlop2'], method='kendall')\n",
    "```"
   ]
  },
  {
   "cell_type": "code",
   "execution_count": null,
   "metadata": {},
   "outputs": [],
   "source": [
    "df['sepal_length'].corr(df['sepal_width'])"
   ]
  },
  {
   "cell_type": "markdown",
   "metadata": {},
   "source": [
    "Korreláció is aggregál: lehet csoportosítással használni:"
   ]
  },
  {
   "cell_type": "code",
   "execution_count": null,
   "metadata": {},
   "outputs": [],
   "source": [
    "df.groupby('species')['sepal_length'].corr(df['sepal_width'])"
   ]
  },
  {
   "cell_type": "code",
   "execution_count": null,
   "metadata": {},
   "outputs": [],
   "source": [
    "# setosa\n",
    "df.loc[1:50, :]['sepal_length'].corr(df.loc[1:50, :]['sepal_width'])"
   ]
  },
  {
   "cell_type": "code",
   "execution_count": null,
   "metadata": {},
   "outputs": [],
   "source": [
    "# versicolor\n",
    "df.loc[51:100, :]['sepal_length'].corr(df.loc[51:100, :]['sepal_width'])"
   ]
  },
  {
   "cell_type": "code",
   "execution_count": null,
   "metadata": {},
   "outputs": [],
   "source": [
    "# virginica\n",
    "df.loc[101:150, :]['sepal_length'].corr(df.loc[101:150, :]['sepal_width'])"
   ]
  },
  {
   "cell_type": "markdown",
   "metadata": {},
   "source": [
    "## 3. Vizualizáció\n",
    "\n",
    "Minden DataFrame-nek és oszlopának (Series) (és GroupBy-nak) van `.plot()` metódusa, ami igazából a *matplotlib* modult hívja a háttérben.\n",
    "\n",
    "A `.plot()` alapból *line plot*-ot fog készíteni, ezt a `kind='típus'` opcionális paraméterrel tudjuk felülírni. Pl oszlopdiagram: `df.plot(kind='bar')` Lehetőségek:\n",
    "\n",
    "- `'line'`\n",
    "- `'bar'` és `'barh'`: függőleges és vízszintes oszlopdiagramm\n",
    "- `'pie'`: torta\n",
    "- `'hist'`: hisztogram\n",
    "- `'box'`: dobozos\n",
    "- `'scatter'`: pöttyös\n",
    "\n",
    "További opcionális paraméterek: [`pandas.DataFrame.plot`](https://pandas.pydata.org/pandas-docs/stable/reference/api/pandas.DataFrame.plot.html#pandas.DataFrame.plot)"
   ]
  },
  {
   "cell_type": "code",
   "execution_count": null,
   "metadata": {},
   "outputs": [],
   "source": [
    "%matplotlib inline"
   ]
  },
  {
   "cell_type": "code",
   "execution_count": null,
   "metadata": {},
   "outputs": [],
   "source": [
    "df.plot()"
   ]
  },
  {
   "cell_type": "markdown",
   "metadata": {},
   "source": [
    "### 5.1. Egydimenziós adatok ábrázolása"
   ]
  },
  {
   "cell_type": "code",
   "execution_count": null,
   "metadata": {},
   "outputs": [],
   "source": [
    "df['sepal_length'].plot()"
   ]
  },
  {
   "cell_type": "code",
   "execution_count": null,
   "metadata": {},
   "outputs": [],
   "source": [
    "# boxplot (kvartilisek)\n",
    "df['sepal_length'].plot(kind='box')"
   ]
  },
  {
   "cell_type": "code",
   "execution_count": null,
   "metadata": {},
   "outputs": [],
   "source": [
    "# hisztogram\n",
    "df['sepal_length'].plot(kind='hist')"
   ]
  },
  {
   "cell_type": "code",
   "execution_count": null,
   "metadata": {},
   "outputs": [],
   "source": [
    "# hisztogram csoportokra\n",
    "df.groupby('species')['sepal_length'].plot(kind='hist')"
   ]
  },
  {
   "cell_type": "markdown",
   "metadata": {},
   "source": [
    "### 5.2. Kétdimenziós adatok ábrázolása"
   ]
  },
  {
   "cell_type": "code",
   "execution_count": null,
   "metadata": {},
   "outputs": [],
   "source": [
    "# két változó a két tengelyen, szórásdiagram\n",
    "df.plot(x='sepal_length', y='sepal_width', kind='scatter', title='PLOTTTT')"
   ]
  },
  {
   "cell_type": "code",
   "execution_count": null,
   "metadata": {},
   "outputs": [],
   "source": [
    "df.groupby('species').plot(x='sepal_length', y='sepal_width', kind='scatter')"
   ]
  },
  {
   "cell_type": "code",
   "execution_count": null,
   "metadata": {},
   "outputs": [],
   "source": [
    "df.groupby('species').std()"
   ]
  },
  {
   "cell_type": "markdown",
   "metadata": {},
   "source": [
    "### 5.3. Többdimenziós adatok ábrázolása"
   ]
  },
  {
   "cell_type": "code",
   "execution_count": null,
   "metadata": {},
   "outputs": [],
   "source": [
    "# szórásdiagram mátrix\n",
    "pd.plotting.scatter_matrix(df, figsize=(12, 9))"
   ]
  },
  {
   "cell_type": "code",
   "execution_count": null,
   "metadata": {},
   "outputs": [],
   "source": [
    "pd.plotting.radviz(df, 'species')"
   ]
  },
  {
   "cell_type": "markdown",
   "metadata": {},
   "source": [
    "## Irodalom\n",
    "\n",
    "- Hivatalos:\n",
    "    - [Dokumentáció](https://pandas.pydata.org/pandas-docs/stable/)\n",
    "    - [Getting started](https://pandas.pydata.org/pandas-docs/stable/getting_started/index.html)\n",
    "- [Real Python: Pandas](https://realpython.com/search?q=pandas)\n",
    "- [Downey, Allen B.: Think Stats](http://www.greenteapress.com/thinkstats/)\n",
    "- [VanderPlas, Jake: Python Data Science Handbook](https://jakevdp.github.io/PythonDataScienceHandbook/)"
   ]
  }
 ],
 "metadata": {
  "kernelspec": {
   "display_name": "Python 3",
   "language": "python",
   "name": "python3"
  },
  "language_info": {
   "codemirror_mode": {
    "name": "ipython",
    "version": 3
   },
   "file_extension": ".py",
   "mimetype": "text/x-python",
   "name": "python",
   "nbconvert_exporter": "python",
   "pygments_lexer": "ipython3",
   "version": "3.7.6"
  }
 },
 "nbformat": 4,
 "nbformat_minor": 2
}
