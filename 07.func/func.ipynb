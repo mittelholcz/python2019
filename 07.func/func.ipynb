{
 "cells": [
  {
   "cell_type": "markdown",
   "metadata": {
    "slideshow": {
     "slide_type": "slide"
    }
   },
   "source": [
    "# Függvények\n",
    "\n",
    "---\n",
    "\n",
    "(2019. 11. 12. – 7. óra)\n",
    "\n",
    "Mittelholcz Iván"
   ]
  },
  {
   "cell_type": "markdown",
   "metadata": {
    "slideshow": {
     "slide_type": "slide"
    }
   },
   "source": [
    "# Restanciák, tanulságok\n",
    "\n",
    "- programozási tételek:\n",
    "    - összegzés\n",
    "    - számlálás / kiválasztás\n",
    "    - maximum keresés\n",
    "    - felétételes maximumkeresés\n",
    "- mi legyen egyszerű: a kód vagy a használt szerkezetek (avagy a megfelelő típus kiválasztásáról)\n",
    "- lista módosítása ciklusból"
   ]
  },
  {
   "cell_type": "markdown",
   "metadata": {
    "slideshow": {
     "slide_type": "slide"
    }
   },
   "source": [
    "# Csináljuk meg együtt\n",
    "\n",
    "- *Legyen egy egész számokat tartalmazó listánk. Növeljük meg a lista minden elemét eggyel!* (`range()`, `enumerate()`)\n",
    "- *Legyen egy szövegünk. Melyik a legtöbbféle betűt tartalmazó szava?*\n",
    "- *Legyen egy szövegünk. Számoljunk szógyakoriságot. Az eredményt tároljuk egy szótárban.*"
   ]
  },
  {
   "cell_type": "markdown",
   "metadata": {
    "slideshow": {
     "slide_type": "skip"
    }
   },
   "source": [
    "# Vázlat\n",
    "\n",
    "1. függvények\n",
    "    - szintaxis: definíció, hívás\n",
    "    - default paraméter\n",
    "    - átadás\n",
    "    - lambda\n",
    "    - mellékhatás, copy\n",
    "1. fájl I/O\n",
    "    - megnyitás olvasásra, írásra, appendálásra, `read()`, `readlines()`, `write()`\n",
    "    - `close()`\n",
    "    - `for line in open('path'): ...`\n",
    "    - kontextus menedzser (`with`)"
   ]
  },
  {
   "cell_type": "markdown",
   "metadata": {
    "slideshow": {
     "slide_type": "slide"
    }
   },
   "source": [
    "# Függvény definíciója\n",
    "\n",
    "<br>\n",
    "\n",
    "```py\n",
    "def fuggvenynev(param1, param2, ..., paramX):\n",
    "    <utasitas1>\n",
    "    <utasitas2>\n",
    "    ...\n",
    "    return <value>\n",
    "```\n",
    "\n",
    "- a `def` kulcsszó jelenti, hogy itt egy függvény definíciója következik\n",
    "- a függvény neve bármilyen érvényes változónév lehet: betű, alulvonás, szám (de számmal nem kezdődhet)\n",
    "- a paraméterek nevei érvényes változónevek lehetnek és csak a függvényben érvényesek (külső változók el lesznek \"takarva\")\n",
    "- utasítások: bármilyen érvényes python utasítás lehet egy függvényben\n",
    "- a `return` opcionális, ha nincs, akkor is van, és visszatérési érték `None` lesz "
   ]
  },
  {
   "cell_type": "markdown",
   "metadata": {
    "slideshow": {
     "slide_type": "subslide"
    }
   },
   "source": [
    "# Függvény hívása\n",
    "\n",
    "Ha kíváncsiak vagyunk az eredményre:\n",
    "\n",
    "```py\n",
    "valtozo = fuggvenynev(param1, param2, ..., paramX)\n",
    "```\n",
    "\n",
    "Ha csak a mellékhatás miatt hívjuk:\n",
    "\n",
    "```py\n",
    "fuggvenynev(param1, param2, ..., paramX)\n",
    "```\n",
    "\n",
    "- a paraméterek lehetnek változók de közvetlen értékek is\n",
    "- ha változók, akkor nem kell hogy azonos nevűek legyenek a függvény definíciójában lévőkkel"
   ]
  },
  {
   "cell_type": "markdown",
   "metadata": {
    "slideshow": {
     "slide_type": "subslide"
    }
   },
   "source": [
    "# Alapértelmezett paraméterek\n",
    "\n",
    "Definíció:\n",
    "\n",
    "```py\n",
    "def fuggvenynev(param1, param2, ... defparam1=val1, defparam2=val2, ...):\n",
    "```\n",
    "\n",
    "Hívás:\n",
    "\n",
    "```py\n",
    "# pozíció szerint\n",
    "fuggvenynev(param1, param2)\n",
    "fuggvenynev(param1, param2, val1)\n",
    "fuggvenynev(param1, param2, val1, val2)\n",
    "# vagy nev szerint (csak a pozíció szerintiek után)\n",
    "fuggvenynev(param1, param2, defparam2=val2)\n",
    "# rossz: fuggvenynev(defparam2=val2, param1, param2)\n",
    "```"
   ]
  },
  {
   "cell_type": "markdown",
   "metadata": {
    "slideshow": {
     "slide_type": "subslide"
    }
   },
   "source": [
    "# First class citizen\n",
    "\n",
    "- átadható más függvénynek paraméterként\n",
    "- lehet függvény visszatérési értéke\n",
    "- változónak lehet értékül adni\n",
    "\n",
    "Példa paraméterként átadásra:\n",
    "\n",
    "```py\n",
    "d = {'a': 3, 'b': 2, 'c': 7}\n",
    "\n",
    "def get_value(item):\n",
    "    return item[1]\n",
    "\n",
    "sorted(d.items(), key=get_value)\n",
    "sorted(d.items(), key=get_value, reverse=True)\n",
    "```"
   ]
  },
  {
   "cell_type": "markdown",
   "metadata": {
    "slideshow": {
     "slide_type": "subslide"
    }
   },
   "source": [
    "# Lambda-függvények\n",
    "\n",
    "```py\n",
    "lambda param1, param2, ... : return_value\n",
    "```\n",
    "\n",
    "- rövid (egy soros), névtelen függvek\n",
    "- általában egyszer használjuk, más függvény paramétereként\n",
    "- ha nagyon szeretnénk többször használni, akkor eltárolhatjuk egy változóban (de inkább ne)\n",
    "- nincs `return`, de a `:` utáni kifejezés kiértékelődik és rendes visszatérési érték adódik vissza\n",
    "\n",
    "Példa (`sorted()`, még egyszerűbben):\n",
    "\n",
    "```py\n",
    "d = {'a': 3, 'b': 2, 'c': 7}\n",
    "\n",
    "sorted(d.items(), key=lambda x: x[1])\n",
    "```"
   ]
  },
  {
   "cell_type": "markdown",
   "metadata": {
    "slideshow": {
     "slide_type": "slide"
    }
   },
   "source": [
    "# Feladatok\n",
    "\n",
    "- Készítsetek függvényekből álló programot, ami szógyakoriságot számol:\n",
    "    - legyen benne egy függvény, ami tetszőleges szöveget fogad és egy szótárat ad vissza, amiben a szavak gyakorisásga van\n",
    "    - legyen benne egy függvény, ami egy gyakorisági szótárat fogad és `(szó, előfordulás)` tuple-ök listáját adja vissza előfordulás szerint csökkenő sorrendbe rendezve\n",
    "    - legyen egy függvény, ami a kiírást intézi\n",
    "- Készítsetek egy függvényt, ami egy tetszőleges sorozatot és egy igaz/hamissal visszatérő tetszőleges függvényt fogad. Térjen vissza azzal a legnagyobb elemmel, amire igaz a függvény"
   ]
  }
 ],
 "metadata": {
  "celltoolbar": "Slideshow",
  "kernelspec": {
   "display_name": "Python 3",
   "language": "python",
   "name": "python3"
  },
  "language_info": {
   "codemirror_mode": {
    "name": "ipython",
    "version": 3
   },
   "file_extension": ".py",
   "mimetype": "text/x-python",
   "name": "python",
   "nbconvert_exporter": "python",
   "pygments_lexer": "ipython3",
   "version": "3.7.5"
  }
 },
 "nbformat": 4,
 "nbformat_minor": 2
}
