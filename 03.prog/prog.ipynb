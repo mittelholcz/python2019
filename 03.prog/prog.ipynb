{
 "cells": [
  {
   "cell_type": "markdown",
   "metadata": {
    "slideshow": {
     "slide_type": "slide"
    }
   },
   "source": [
    "# Programozás\n",
    "\n",
    "---\n",
    "\n",
    "(2019. 10. 08. - 3. óra)\n",
    "\n",
    "Mittelholcz Iván"
   ]
  },
  {
   "cell_type": "markdown",
   "metadata": {
    "slideshow": {
     "slide_type": "slide"
    }
   },
   "source": [
    "## 1. Mi a programozás?"
   ]
  },
  {
   "cell_type": "markdown",
   "metadata": {
    "slideshow": {
     "slide_type": "fragment"
    }
   },
   "source": [
    "Egy algoritmus implementálása egy programozási nyelven."
   ]
  },
  {
   "cell_type": "markdown",
   "metadata": {
    "slideshow": {
     "slide_type": "subslide"
    }
   },
   "source": [
    "## Mi egy algoritmus?"
   ]
  },
  {
   "cell_type": "markdown",
   "metadata": {
    "slideshow": {
     "slide_type": "fragment"
    }
   },
   "source": [
    "Megengedett műveleteket tartalmazó eljárás, ami megold egy problémát."
   ]
  },
  {
   "cell_type": "markdown",
   "metadata": {
    "slideshow": {
     "slide_type": "subslide"
    }
   },
   "source": [
    "## Mik a *megengedett műveletek*?"
   ]
  },
  {
   "cell_type": "markdown",
   "metadata": {
    "slideshow": {
     "slide_type": "fragment"
    }
   },
   "source": [
    "- Összetett feladat megoldása: felbontás egyszerűbb részfeladatokra, amíg olyan feladatokhoz nem jutunk, amiket már meg tudunk oldani (a nyelvben benne van)"
   ]
  },
  {
   "cell_type": "markdown",
   "metadata": {
    "slideshow": {
     "slide_type": "fragment"
    }
   },
   "source": [
    "- I/O (input, output): általában nem része az algoritmusnak, de része a programnak "
   ]
  },
  {
   "cell_type": "markdown",
   "metadata": {
    "slideshow": {
     "slide_type": "slide"
    }
   },
   "source": [
    "## 2. Hogyan futtatunk egy programot?"
   ]
  },
  {
   "cell_type": "markdown",
   "metadata": {
    "slideshow": {
     "slide_type": "fragment"
    }
   },
   "source": [
    "A gép gépi nyelven ért $\\to$ a programot át kell alakítani gépi nyelvre."
   ]
  },
  {
   "cell_type": "markdown",
   "metadata": {
    "slideshow": {
     "slide_type": "subslide"
    }
   },
   "source": [
    "## Fordítás és értelmezés"
   ]
  },
  {
   "cell_type": "markdown",
   "metadata": {
    "slideshow": {
     "slide_type": "fragment"
    }
   },
   "source": [
    "Fordítás:\n",
    "\n",
    "- a forráskódból egy bináris fájlt állít elő, ami érthető a gépnek\n",
    "- a fordítóra ezután nincs szükség, a bináris nélküle is futtatható\n",
    "- a bináris fájl architektúra- és platformfüggő"
   ]
  },
  {
   "cell_type": "markdown",
   "metadata": {
    "slideshow": {
     "slide_type": "fragment"
    }
   },
   "source": [
    "Értelmezés:\n",
    "\n",
    "- a forráskódot *tolmácsolja* a gépnek, nem hoz létre új fájlt\n",
    "- az értelmezőre minden futtatásnál szükésg van\n",
    "- architektúra- és platformfüggőség?"
   ]
  },
  {
   "cell_type": "markdown",
   "metadata": {
    "slideshow": {
     "slide_type": "subslide"
    }
   },
   "source": [
    "## Futtatás unix-szerű környezetben\n",
    "\n",
    "Értelmezett nyelvek:\n",
    "\n",
    "```sh\n",
    "interpreter fájl\n",
    "```\n",
    "\n",
    "Például:\n",
    "\n",
    "```sh\n",
    "bash myscript.sh\n",
    "python myscript.py\n",
    "```"
   ]
  },
  {
   "cell_type": "markdown",
   "metadata": {
    "slideshow": {
     "slide_type": "slide"
    }
   },
   "source": [
    "## 3. Mi történik a futás során?"
   ]
  },
  {
   "cell_type": "markdown",
   "metadata": {
    "slideshow": {
     "slide_type": "fragment"
    }
   },
   "source": [
    "- program a háttértáron (merevlemez, ssd, stb)"
   ]
  },
  {
   "cell_type": "markdown",
   "metadata": {
    "slideshow": {
     "slide_type": "fragment"
    }
   },
   "source": [
    "- beolvasás a memóriába (RAM)\n",
    "  * utasítások\n",
    "  * adatok"
   ]
  },
  {
   "cell_type": "markdown",
   "metadata": {
    "slideshow": {
     "slide_type": "fragment"
    }
   },
   "source": [
    "- futtatás: a processzor végrehajtja az utasításokat az adatokon"
   ]
  },
  {
   "cell_type": "markdown",
   "metadata": {
    "slideshow": {
     "slide_type": "fragment"
    }
   },
   "source": [
    "- kilépés, a memória felszabadíthatóvá válik"
   ]
  }
 ],
 "metadata": {
  "celltoolbar": "Slideshow",
  "kernelspec": {
   "display_name": "Python 3",
   "language": "python",
   "name": "python3"
  },
  "language_info": {
   "codemirror_mode": {
    "name": "ipython",
    "version": 3
   },
   "file_extension": ".py",
   "mimetype": "text/x-python",
   "name": "python",
   "nbconvert_exporter": "python",
   "pygments_lexer": "ipython3",
   "version": "3.7.4"
  }
 },
 "nbformat": 4,
 "nbformat_minor": 2
}
