{
 "cells": [
  {
   "cell_type": "markdown",
   "metadata": {
    "slideshow": {
     "slide_type": "slide"
    }
   },
   "source": [
    "# Összetett adattípusok\n",
    "\n",
    "---\n",
    "\n",
    "(2019. 10. 21. – 5. óra)\n",
    "\n",
    "Mittelholcz Iván"
   ]
  },
  {
   "cell_type": "markdown",
   "metadata": {
    "slideshow": {
     "slide_type": "skip"
    }
   },
   "source": [
    "# Vázlat\n",
    "\n",
    "adattípusok:\n",
    "\n",
    "1. lista\n",
    "1. tuple\n",
    "1. set\n",
    "1. dict\n",
    "\n",
    "témák:\n",
    "\n",
    "- copy, deepcopy\n",
    "- mutabilitás és immutabilitás\n",
    "- Feladatok\n",
    "- Hazifeladatok"
   ]
  },
  {
   "cell_type": "markdown",
   "metadata": {
    "slideshow": {
     "slide_type": "slide"
    }
   },
   "source": [
    "# 1. Rendezett sorozatok (*tuple*)\n",
    "\n",
    "- objektumreferenciák rendezett sorozata\n",
    "  - nem magukat az objektumokat tárol, hanem objektumokra való hivatkozásokat\n",
    "  - nem változtatható (*immutable*)\n",
    "- jelölés: `(x1, x2, ...)`\n",
    "- indexelhető (`t[i]`) és szeletelhető (`t[i:j]`, ill. `t[i:j:k]`) a *string*ekhez hasonlóan\n",
    "- kapcsolódó függvények: `tuple()`, `len()`, `min()`, `max()`, `sum()`, `all()`, `any()`, `sorted()`\n",
    "- műveletek: `+`, `*`, `in`, `not in`\n",
    "- metódusok: `t.index(x)`, `t.count(x)`"
   ]
  },
  {
   "cell_type": "markdown",
   "metadata": {
    "slideshow": {
     "slide_type": "slide"
    }
   },
   "source": [
    "# 2. Listák (*list*)\n",
    "\n",
    "- ugyan az, mint a *tuple*, csak változtatható (*mutable*)\n",
    "- jelölés: `[x1, x2, ...]`\n",
    "- kapcsolódó függvények: `list()`\n",
    "- további műveletek: `l[i] = x`, `l[i:j] = [...]`, `del l[i]`, `del l[i:j]`\n",
    "- további metódusok: `l.append(x)`, `l.pop()`, `l.insert(x)`, `l.remove(x)`, `l.sort()`"
   ]
  },
  {
   "cell_type": "markdown",
   "metadata": {
    "slideshow": {
     "slide_type": "subslide"
    }
   },
   "source": [
    "# Feladat\n",
    "\n",
    "1. bontsunk fel egy szöveget szavak listájára\n",
    "1. rendezzük a listát ábécé sorrendbe"
   ]
  },
  {
   "cell_type": "markdown",
   "metadata": {
    "slideshow": {
     "slide_type": "slide"
    }
   },
   "source": [
    "# 3. Halmazok (*set*)\n",
    "\n",
    "- objektumreferenciák halmaza\n",
    "  - minden értéket csak egyszer tárol\n",
    "  - sorrend nem számít\n",
    "  - változtatható (*mutable*)\n",
    "- jelölés: `{x1, x2, ...}`\n",
    "- nem indexelhető!\n",
    "- kapcsolódó függvények: `set()`, `len()`, `min()`, `max()`, `sum()`, `all()`, `any()`, `sorted()`\n",
    "- műveletek: `in`, `not in`, `s1 | s2`, `s1 & s2`, `s1 - s2`, `<`, `<=`, `>`,  `>=` \n",
    "- metódusok: `s.add(x)`, `s.remove(x)`, `s.discard(x)`, `s.pop()`"
   ]
  },
  {
   "cell_type": "markdown",
   "metadata": {
    "slideshow": {
     "slide_type": "subslide"
    }
   },
   "source": [
    "# Feladat\n",
    "\n",
    "1. bontsunk fel egy szöveget szavak listájára\n",
    "1. milyen szavak szerepelnek a szövegben?"
   ]
  },
  {
   "cell_type": "markdown",
   "metadata": {
    "slideshow": {
     "slide_type": "slide"
    }
   },
   "source": [
    "# 4. Szótárak (*dict*)\n",
    "\n",
    "- Kulcs-érték párok halmaza\n",
    "  - minden kulcsnak egyedinek kell lennie\n",
    "  - a kulcsoknak változtathatatlanoknak kell lenniök\n",
    "  - sorrend nem számít\n",
    "  - maga a szótár változtatható (*mutable*)\n",
    "- jelölés: `{k1: v1, k2: v2, ...}`\n",
    "- indexelhető kulccsal, de nem sorszámmal: `d[k]`\n",
    "- nem szeletelhető!\n",
    "- kapcsolódó függvények: `dict()`, `len()`, `min()`, `max()`, `sum()`, `all()`, `any()`, `sorted()`\n",
    "- műveletek: `key in d`, `key not in d`, `d[k] = v`, `del d[k]`\n",
    "- metódusok: `d.get(k)`, `d.keys()`, `d.values()`, `d.items()`"
   ]
  },
  {
   "cell_type": "markdown",
   "metadata": {
    "slideshow": {
     "slide_type": "slide"
    }
   },
   "source": [
    "# Már megint vége az órának!"
   ]
  }
 ],
 "metadata": {
  "celltoolbar": "Slideshow",
  "kernelspec": {
   "display_name": "Python 3",
   "language": "python",
   "name": "python3"
  },
  "language_info": {
   "codemirror_mode": {
    "name": "ipython",
    "version": 3
   },
   "file_extension": ".py",
   "mimetype": "text/x-python",
   "name": "python",
   "nbconvert_exporter": "python",
   "pygments_lexer": "ipython3",
   "version": "3.7.4"
  }
 },
 "nbformat": 4,
 "nbformat_minor": 2
}
