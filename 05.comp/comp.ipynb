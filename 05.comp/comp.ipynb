{
 "cells": [
  {
   "cell_type": "markdown",
   "metadata": {
    "slideshow": {
     "slide_type": "slide"
    }
   },
   "source": [
    "# Összetett adattípusok\n",
    "\n",
    "---\n",
    "\n",
    "(2019. 10. 21. – 5. óra)\n",
    "\n",
    "Mittelholcz Iván"
   ]
  },
  {
   "cell_type": "markdown",
   "metadata": {
    "slideshow": {
     "slide_type": "skip"
    }
   },
   "source": [
    "# Vázlat\n",
    "\n",
    "adattípusok:\n",
    "\n",
    "1. lista\n",
    "1. tuple\n",
    "1. set\n",
    "1. dict\n",
    "\n",
    "témák:\n",
    "\n",
    "- copy, deepcopy\n",
    "- mutabilitás és immutabilitás\n",
    "- Feladatok\n",
    "- Hazifeladatok"
   ]
  },
  {
   "cell_type": "markdown",
   "metadata": {
    "slideshow": {
     "slide_type": "slide"
    }
   },
   "source": [
    "# 1. Rendezett sorozatok (*tuple*)\n",
    "\n",
    "- objektumreferenciák rendezett sorozata\n",
    "  - nem magukat az objektumokat tárol, hanem objektumokra való hivatkozásokat\n",
    "  - nem változtatható (*immutable*)\n",
    "- jelölés: `(x1, x2, ...)`\n",
    "- indexelhető (`t[i]`) és szeletelhető (`t[i:j]`, ill. `t[i:j:k]`) a *string*ekhez hasonlóan\n",
    "- kapcsolódó függvények: `tuple()`, `len()`, `min()`, `max()`, `sum()`, `all()`, `any()`, `sorted()`\n",
    "- műveletek: `+`, `*`, `in`, `not in`\n",
    "- metódusok: `t.index(x)`, `t.count(x)`"
   ]
  },
  {
   "cell_type": "markdown",
   "metadata": {
    "slideshow": {
     "slide_type": "slide"
    }
   },
   "source": [
    "# 2. Listák (*list*)\n",
    "\n",
    "- ugyan az, mint a *tuple*, csak változtatható (*mutable*)\n",
    "- jelölés: `[x1, x2, ...]`\n",
    "- kapcsolódó függvények: `list()`\n",
    "- további műveletek: `l[i] = x`, `l[i:j] = [...]`, `del l[i]`, `del l[i:j]`\n",
    "- további metódusok: `l.append(x)`, `l.pop()`, `l.insert(x)`, `l.remove(x)`, `l.sort()`"
   ]
  },
  {
   "cell_type": "markdown",
   "metadata": {
    "slideshow": {
     "slide_type": "subslide"
    }
   },
   "source": [
    "# Feladat\n",
    "\n",
    "1. bontsunk fel egy szöveget szavak listájára\n",
    "1. rendezzük a listát ábécé sorrendbe"
   ]
  },
  {
   "cell_type": "markdown",
   "metadata": {
    "slideshow": {
     "slide_type": "slide"
    }
   },
   "source": [
    "# 3. Halmazok (*set*)\n",
    "\n",
    "- objektumreferenciák halmaza\n",
    "  - minden értéket csak egyszer tárol\n",
    "  - sorrend nem számít\n",
    "  - változtatható (*mutable*)\n",
    "- jelölés: `{x1, x2, ...}`\n",
    "- nem indexelhető!\n",
    "- kapcsolódó függvények: `set()`, `len()`, `min()`, `max()`, `sum()`, `all()`, `any()`, `sorted()`\n",
    "- műveletek: `in`, `not in`, `s1 | s2`, `s1 & s2`, `s1 - s2`, `<`, `<=`, `>`,  `>=` \n",
    "- metódusok: `s.add(x)`, `s.remove(x)`, `s.discard(x)`, `s.pop()`"
   ]
  },
  {
   "cell_type": "markdown",
   "metadata": {
    "slideshow": {
     "slide_type": "subslide"
    }
   },
   "source": [
    "# Feladat\n",
    "\n",
    "1. bontsunk fel egy szöveget szavak listájára\n",
    "1. milyen szavak szerepelnek a szövegben?"
   ]
  },
  {
   "cell_type": "markdown",
   "metadata": {
    "slideshow": {
     "slide_type": "slide"
    }
   },
   "source": [
    "# 4. Szótárak (*dict*)\n",
    "\n",
    "- Kulcs-érték párok halmaza\n",
    "  - minden kulcsnak egyedinek kell lennie\n",
    "  - a kulcsoknak változtathatatlanoknak kell lenniök\n",
    "  - sorrend nem számít\n",
    "  - maga a szótár változtatható (*mutable*)\n",
    "- jelölés: `{k1: v1, k2: v2, ...}`\n",
    "- indexelhető kulccsal, de nem sorszámmal: `d[k]`\n",
    "- nem szeletelhető!\n",
    "- kapcsolódó függvények: `dict()`, `len()`, `min()`, `max()`, `sum()`, `all()`, `any()`, `sorted()`\n",
    "- műveletek: `key in d`, `key not in d`, `d[k] = v`, `del d[k]`\n",
    "- metódusok: `d.get(k)`, `d.keys()`, `d.values()`, `d.items()`"
   ]
  },
  {
   "cell_type": "markdown",
   "metadata": {
    "slideshow": {
     "slide_type": "slide"
    }
   },
   "source": [
    "# 5. Vezérlési szerkezetek\n",
    "\n",
    "1. szekvencia\n",
    "1. elágazás\n",
    "1. ciklus"
   ]
  },
  {
   "cell_type": "markdown",
   "metadata": {
    "slideshow": {
     "slide_type": "subslide"
    }
   },
   "source": [
    "# 5.1. Szekvencia\n",
    "\n",
    "- utasítások egymásutánja\n",
    "\n",
    "```py\n",
    "utasitas1()\n",
    "utasitas2()\n",
    "```"
   ]
  },
  {
   "cell_type": "markdown",
   "metadata": {
    "slideshow": {
     "slide_type": "subslide"
    }
   },
   "source": [
    "# 5.2. Elágazás\n",
    "\n",
    "Feltétel teljesülése esetén az egyik, nem teljesülése esetén egy másik utasítás fut le:\n",
    "\n",
    "```py\n",
    "if ch in 'aeiou':\n",
    "    print('mgh')\n",
    "else:\n",
    "    print('msh')\n",
    "```"
   ]
  },
  {
   "cell_type": "markdown",
   "metadata": {
    "slideshow": {
     "slide_type": "subslide"
    }
   },
   "source": [
    "# 5.2. Elágazás (folytatás)\n",
    "\n",
    "Az `else` ág opcionális:\n",
    "\n",
    "```py\n",
    "if uj_fizetes > 147000:\n",
    "    allast_valtok()\n",
    "```"
   ]
  },
  {
   "cell_type": "markdown",
   "metadata": {
    "slideshow": {
     "slide_type": "fragment"
    }
   },
   "source": [
    "Lehet kettőnél több ágat is bevezetni:\n",
    "\n",
    "```py\n",
    "if ch in 'aeiou':\n",
    "    print('mgh')\n",
    "elif ch in 'bcdfghjklmnpqrstvwxyz':\n",
    "    print('msh')\n",
    "else:\n",
    "    print('nem betű')\n",
    "```"
   ]
  },
  {
   "cell_type": "markdown",
   "metadata": {
    "slideshow": {
     "slide_type": "subslide"
    }
   },
   "source": [
    "# 5.3. Ciklus\n",
    "\n",
    "Ugyan azt az utasítás sokszor hajtjuk végre:\n",
    "\n",
    "- amíg egy feltétel teljesül (`while`)\n",
    "- egy gyűjteményes adattípus minden elemére (`for`)"
   ]
  },
  {
   "cell_type": "markdown",
   "metadata": {
    "slideshow": {
     "slide_type": "subslide"
    }
   },
   "source": [
    "# 5.3. Ciklus (*while*)\n",
    "\n",
    "```py\n",
    "while fizetes < 200000:\n",
    "    allast_keresek()\n",
    "```"
   ]
  },
  {
   "cell_type": "markdown",
   "metadata": {
    "slideshow": {
     "slide_type": "skip"
    }
   },
   "source": [
    "Hasznosabb változat:\n",
    "\n",
    "```py\n",
    "x = 0\n",
    "while x < 10:\n",
    "    x += 1\n",
    "    print(x)\n",
    "```"
   ]
  },
  {
   "cell_type": "markdown",
   "metadata": {
    "slideshow": {
     "slide_type": "subslide"
    }
   },
   "source": [
    "# 5.3. Ciklus (*for*)\n",
    "\n",
    "Lista / tuple / halmaz bejárása:\n",
    "\n",
    "```py\n",
    "for i in container:\n",
    "    print(i)\n",
    "```"
   ]
  },
  {
   "cell_type": "markdown",
   "metadata": {
    "slideshow": {
     "slide_type": "fragment"
    }
   },
   "source": [
    "Szótár kulcsainak bejárása:\n",
    "\n",
    "```py\n",
    "for key in mydict:\n",
    "    print(key, mydict[key])\n",
    "```"
   ]
  },
  {
   "cell_type": "markdown",
   "metadata": {
    "slideshow": {
     "slide_type": "fragment"
    }
   },
   "source": [
    "Szótár kulcs-érték párjainak bejárása:\n",
    "\n",
    "```py\n",
    "for k, v in mydict.items():\n",
    "    print(k, v)\n",
    "```"
   ]
  },
  {
   "cell_type": "markdown",
   "metadata": {
    "slideshow": {
     "slide_type": "subslide"
    }
   },
   "source": [
    "# Feladatok\n",
    "\n",
    "1. Keressük meg egy szöveg leghosszabb szavát!\n",
    "1. Legyen egy egész számokat tartalmazó listánk. Növeljük meg a lista minden elemét eggyel!\n",
    "1. Egy szöveget bontsunk szavakra. Töröljük az 'a'-val kezdődő szavakat.\n",
    "    - alakítsuk vissza a maradék listát szöveggé (l. [`str.join()`](https://docs.python.org/3/library/stdtypes.html#str.join))"
   ]
  },
  {
   "cell_type": "markdown",
   "metadata": {
    "slideshow": {
     "slide_type": "slide"
    }
   },
   "source": [
    "# Már megint vége az órának!"
   ]
  }
 ],
 "metadata": {
  "celltoolbar": "Slideshow",
  "kernelspec": {
   "display_name": "Python 3",
   "language": "python",
   "name": "python3"
  },
  "language_info": {
   "codemirror_mode": {
    "name": "ipython",
    "version": 3
   },
   "file_extension": ".py",
   "mimetype": "text/x-python",
   "name": "python",
   "nbconvert_exporter": "python",
   "pygments_lexer": "ipython3",
   "version": "3.7.4"
  }
 },
 "nbformat": 4,
 "nbformat_minor": 2
}
