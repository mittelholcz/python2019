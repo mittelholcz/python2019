{
 "cells": [
  {
   "cell_type": "markdown",
   "metadata": {
    "slideshow": {
     "slide_type": "slide"
    }
   },
   "source": [
    "# Adattípusok\n",
    "\n",
    "---\n",
    "\n",
    "(2019. 10. 14. - 4. óra)\n",
    "\n",
    "Mittelholcz Iván\n"
   ]
  },
  {
   "cell_type": "markdown",
   "metadata": {
    "slideshow": {
     "slide_type": "skip"
    }
   },
   "source": [
    "# Vázlat\n",
    "\n",
    "1. interaktív python\n",
    "1. egy mondat: `function(data)`\n",
    "1. adattípusok általában\n",
    "1. változók és értékadás\n",
    "  - memória és pointer\n",
    "  - `x = y = 1` és `x, y = 1, 2`\n",
    "1. metódusok\n",
    "1. Egyszerű adattípusok és metódusaik\n",
    "1. összetett adattípusok és metódusaik"
   ]
  },
  {
   "cell_type": "markdown",
   "metadata": {
    "slideshow": {
     "slide_type": "slide"
    }
   },
   "source": [
    "# 1. Interaktív Python\n",
    "\n",
    "<br>\n",
    "\n",
    "```sh\n",
    "python\n",
    "```\n",
    "\n",
    "- nem kell fájlt megadni\n",
    "- gyorsan ki lehet próbálni egy ötletet\n",
    "- az iypthon jobb (szintaxis, kiegészítés TAB-bal, indentálás)\n",
    "  - telepítés:  `sudo pip install jupyter`\n",
    "  - indítás: `ipython`\n",
    "- előzmények: felfele/lefele nyíl\n",
    "- kilépés: Ctrl+D"
   ]
  },
  {
   "cell_type": "markdown",
   "metadata": {
    "slideshow": {
     "slide_type": "slide"
    }
   },
   "source": [
    "# 2. Adat és utasítás\n",
    "\n",
    "<br>\n",
    "\n",
    "```python\n",
    "len('alma')\n",
    "```\n",
    "\n",
    "Dokumentáció:\n",
    "\n",
    "- típusok: <https://docs.python.org/3/library/stdtypes.html>\n",
    "- függvények: <https://docs.python.org/3/library/functions.html>"
   ]
  },
  {
   "cell_type": "markdown",
   "metadata": {
    "slideshow": {
     "slide_type": "slide"
    }
   },
   "source": [
    "# 3. Változók és értékadás\n",
    "\n",
    "Változó: címke egy memóriaterületen (pl. C/C++)\n",
    "\n",
    "![cpp](img/mem_c.png)"
   ]
  },
  {
   "cell_type": "markdown",
   "metadata": {
    "slideshow": {
     "slide_type": "subslide"
    }
   },
   "source": [
    "# 3. Változók és értékadás\n",
    "\n",
    "Változó: címke egy memóriában lévő objektumon (Python)\n",
    "\n",
    "![python](img/mem_py.png)"
   ]
  },
  {
   "cell_type": "markdown",
   "metadata": {
    "slideshow": {
     "slide_type": "subslide"
    }
   },
   "source": [
    "# Trükkös értékadások\n",
    "\n",
    "<br>\n",
    "\n",
    "```python\n",
    "x = 10\n",
    "x = y = 10\n",
    "x, y = 10, 20\n",
    "```"
   ]
  },
  {
   "cell_type": "markdown",
   "metadata": {
    "slideshow": {
     "slide_type": "slide"
    }
   },
   "source": [
    "# 4. Miért van az adatoknak típusa?\n",
    "\n",
    "<br>\n",
    "\n",
    "```python\n",
    "type(adat)\n",
    "```"
   ]
  },
  {
   "cell_type": "markdown",
   "metadata": {
    "slideshow": {
     "slide_type": "fragment"
    }
   },
   "source": [
    "- memória"
   ]
  },
  {
   "cell_type": "markdown",
   "metadata": {
    "slideshow": {
     "slide_type": "fragment"
    }
   },
   "source": [
    "- műveletek"
   ]
  },
  {
   "cell_type": "markdown",
   "metadata": {
    "slideshow": {
     "slide_type": "subslide"
    }
   },
   "source": [
    "# Függvények\n",
    "\n",
    "<br>\n",
    "\n",
    "```python\n",
    "x = 10\n",
    "s = 'alma'\n",
    "```"
   ]
  },
  {
   "cell_type": "markdown",
   "metadata": {
    "slideshow": {
     "slide_type": "fragment"
    }
   },
   "source": [
    "```python\n",
    "print(x)\n",
    "print(s)\n",
    "```"
   ]
  },
  {
   "cell_type": "markdown",
   "metadata": {
    "slideshow": {
     "slide_type": "fragment"
    }
   },
   "source": [
    "```python\n",
    "len(x)\n",
    "len(s)\n",
    "```"
   ]
  },
  {
   "cell_type": "markdown",
   "metadata": {
    "slideshow": {
     "slide_type": "subslide"
    }
   },
   "source": [
    "# Metódusok és műveletek\n",
    "\n",
    "<br>\n",
    "\n",
    "```python\n",
    "x + 20\n",
    "x + 'alma'\n",
    "```"
   ]
  },
  {
   "cell_type": "markdown",
   "metadata": {
    "slideshow": {
     "slide_type": "fragment"
    }
   },
   "source": [
    "```python\n",
    "s.upper()\n",
    "```"
   ]
  },
  {
   "cell_type": "markdown",
   "metadata": {
    "slideshow": {
     "slide_type": "fragment"
    }
   },
   "source": [
    "```python\n",
    "x.__add__(20)\n",
    "```"
   ]
  },
  {
   "cell_type": "markdown",
   "metadata": {
    "slideshow": {
     "slide_type": "fragment"
    }
   },
   "source": [
    "```python\n",
    "x.upper()\n",
    "```"
   ]
  },
  {
   "cell_type": "markdown",
   "metadata": {
    "slideshow": {
     "slide_type": "slide"
    }
   },
   "source": [
    "# Vége!"
   ]
  }
 ],
 "metadata": {
  "celltoolbar": "Slideshow",
  "kernelspec": {
   "display_name": "Python 3",
   "language": "python",
   "name": "python3"
  },
  "language_info": {
   "codemirror_mode": {
    "name": "ipython",
    "version": 3
   },
   "file_extension": ".py",
   "mimetype": "text/x-python",
   "name": "python",
   "nbconvert_exporter": "python",
   "pygments_lexer": "ipython3",
   "version": "3.7.4"
  }
 },
 "nbformat": 4,
 "nbformat_minor": 2
}
