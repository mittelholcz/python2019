{
 "cells": [
  {
   "cell_type": "markdown",
   "metadata": {
    "slideshow": {
     "slide_type": "slide"
    }
   },
   "source": [
    "# Objektumorientált programozás és egyebek\n",
    "\n",
    "---\n",
    "\n",
    "(2019. 12. 03. – 10. óra)\n",
    "\n",
    "Mittelholcz Iván"
   ]
  },
  {
   "cell_type": "markdown",
   "metadata": {
    "slideshow": {
     "slide_type": "slide"
    }
   },
   "source": [
    "# 1. Objektumorientált programozás"
   ]
  },
  {
   "cell_type": "markdown",
   "metadata": {
    "slideshow": {
     "slide_type": "subslide"
    }
   },
   "source": [
    "# 1.1. Felhasználói típusok\n",
    "\n",
    "Alapfogalmak:\n",
    "\n",
    "- Osztály (class, type): Dolgok egy modellezendő csoportja (számok, szavak, emberek, épületek, akármi).\n",
    "- Objektum (object, instance): Osztályok példányai vagy egyedei."
   ]
  },
  {
   "cell_type": "markdown",
   "metadata": {
    "slideshow": {
     "slide_type": "fragment"
    }
   },
   "source": [
    "Változók / adatok:\n",
    "\n",
    "- Osztályváltozó: Osztály szintű változók (minden példánynál egyezik az értékük)\n",
    "- **Példányváltozó**: Példány szintű változók (minden példánynak saját van). Általában a konstruktorban definiáljuk őket."
   ]
  },
  {
   "cell_type": "markdown",
   "metadata": {
    "slideshow": {
     "slide_type": "fragment"
    }
   },
   "source": [
    "Függvények / metódusok:\n",
    "\n",
    "- Osztálymetódus: Az osztály egészével kapcsolatos függvény, ami csak osztályváltozókhoz fér hozzá.\n",
    "- **Példánymetódus**: Olyan függvény, ami csak egy-egy példánnyal kapcsolatos, osztály- és példányváltozókhoz egyaránt hozzáfér."
   ]
  },
  {
   "cell_type": "markdown",
   "metadata": {
    "slideshow": {
     "slide_type": "subslide"
    }
   },
   "source": [
    "# 1.2. Példa\n",
    "\n",
    "```py\n",
    "from datetime import date\n",
    "\n",
    "class Person:\n",
    "\n",
    "    # konstruktor:\n",
    "    def __init__(self, name, year):\n",
    "        self.name = name\n",
    "        self.year = date\n",
    "   \n",
    "    def get_age(self):\n",
    "        return date.today().year - self.year\n",
    "\n",
    "mari = Person('Mária', 1969)\n",
    "print('{0} {1}-ben született.'.format(mari.name, mari.year))\n",
    "print('{0} {1} éves.'.format(mari.name, mari.get_age()))\n",
    "```"
   ]
  },
  {
   "cell_type": "markdown",
   "metadata": {
    "slideshow": {
     "slide_type": "subslide"
    }
   },
   "source": [
    "# 1.3. Szintaxis\n",
    "\n",
    "- definíció: `class` + név + `:`, alatta indentálva a változók és metódusok\n",
    "\n",
    "- példányfüggvény:\n",
    "    - definiálása: Sima függvénydefiníció a `class` alatt indentálva. Első paramétere legyen mindig a `self`!\n",
    "    - hívása: Példányon lehet meghívni, ponttal elválasztva (`peldany.metodus(...)`). Az első paramétert (`self`) soha nem kell megadni (az a példány maga – olyan, mintha azt mondanák: `metodus(peldany, ...)`)."
   ]
  },
  {
   "cell_type": "markdown",
   "metadata": {
    "slideshow": {
     "slide_type": "subslide"
    }
   },
   "source": [
    "# 1.3. Szintaxis (folytatás)\n",
    "\n",
    "- példányváltozó: \n",
    "    - definiálása: *konstruktor* függvényben adjuk meg (`def __init__(self, x): self.x = x`)\n",
    "    - hivatkozás rá: Példányon, ponttal elválasztva (`peldany.x` vagy értékadásnál `peldany.x = 11`)\n",
    "\n",
    "- példányosítás: Az osztály nevét függvényként hívjuk, a konstruktor paramétereivel (`self` nélkül).\n",
    "\n",
    "  ```py\n",
    "  Osztaly(param1, param2)\n",
    "  ```"
   ]
  },
  {
   "cell_type": "markdown",
   "metadata": {
    "slideshow": {
     "slide_type": "subslide"
    }
   },
   "source": [
    "# 1.4. Öröklődés\n",
    "\n",
    "Egy osztály alosztálya, specializált részhalmaza (pl. szó–ige, ember–nyelvész, stb.) örökli az alap osztály a változóit és metódusait. Szokás *is a* relációnak is hívni, szemben a példányváltozók jelentette *has a* relációval.\n",
    "\n",
    "\n",
    "Szintaxis: Osztály definiálásánál az osztály neve után zárójelben szerepel az ős osztály. Az ősre a `super()` függvénnyel lehet hivatkozni.\n",
    "\n",
    "Példa:\n",
    "\n",
    "```py\n",
    "class Linguist(Person):\n",
    "    def __init__(self, name, year, spec):\n",
    "        self.spec = spec\n",
    "        super().__init__(name, year)\n",
    "    def get_info(self):\n",
    "        return '{0} {1} éves, szakterülete a {2}'.format(\n",
    "            self.name, self.year, self.get_age())\n",
    "\n",
    "chom = Linguist('Chomsky', 1928, 'szintaxis')\n",
    "print(chom.get_info())\n",
    "```"
   ]
  },
  {
   "cell_type": "markdown",
   "metadata": {
    "slideshow": {
     "slide_type": "subslide"
    }
   },
   "source": [
    "# 1.5. Irodalom\n",
    "\n",
    "- <https://docs.python.org/3/tutorial/classes.html>\n",
    "- <https://realpython.com/python3-object-oriented-programming/>\n"
   ]
  },
  {
   "cell_type": "markdown",
   "metadata": {
    "slideshow": {
     "slide_type": "slide"
    }
   },
   "source": [
    "# 2. Vegyes apróságok"
   ]
  },
  {
   "cell_type": "markdown",
   "metadata": {
    "slideshow": {
     "slide_type": "subslide"
    }
   },
   "source": [
    "# 2.1. Stringek formázása\n",
    "\n",
    "- Stringekbe bármilyen érték illeszthetó a `str.format()` metódussal.\n",
    "- A stringben az illesztés helyét kapcsols zárójelekkel + sorszámmal (0-val kezdünk) jelöljük.\n",
    "- A `format()` paramétereiként felsorolt értékek behelyettesítődnek a stringbe, a #0 helyére a format 1. paramétere kerül, az #1 helyére a 2. paraméter kerül, sít.\n",
    "\n",
    "Példa:\n",
    "\n",
    "```py\n",
    "x = 10\n",
    "y = 20\n",
    "\n",
    "s = '{0} meg {1} az {2}. A {0} szép szám!'\n",
    "print(s.format(x, y, x+y))\n",
    "# output: '10 meg 20 az 30. A 10 szép szám!'\n",
    "```\n",
    "\n",
    "- További formázási lehetőségek: https://docs.python.org/3/library/string.html#formatstrings\n",
    "- *f-string*ek (3.7 vagy újabb python kell hozzá): https://realpython.com/python-f-strings/"
   ]
  },
  {
   "cell_type": "markdown",
   "metadata": {
    "slideshow": {
     "slide_type": "subslide"
    }
   },
   "source": [
    "# 2.2. Listák, halmazok és szótárak röviden\n",
    "\n",
    "Listák:\n",
    "\n",
    "```py\n",
    "l1 = [1, 2, 3, 4, 5]\n",
    "# szűrés (csak páratlanok):\n",
    "l2 = [x for x in l1 if x % 2 != 0]\n",
    "# leképezés (négyzetszámokra):\n",
    "l3 = [x**2 for x in l2]\n",
    "# egy lépésben:\n",
    "l4 = [x**2 for x in l1 if x % 2 != 0]\n",
    "```"
   ]
  },
  {
   "cell_type": "markdown",
   "metadata": {
    "slideshow": {
     "slide_type": "fragment"
    }
   },
   "source": [
    "Halmazok és szótárak hasonlóan:\n",
    "\n",
    "```py\n",
    "# szöveg szavainak halmaza:\n",
    "s = {w for w in text.split()}\n",
    "# szavak és hosszúságaik szótára:\n",
    "d = {w: len(w) for w in text.split()}\n",
    "```"
   ]
  },
  {
   "cell_type": "markdown",
   "metadata": {
    "slideshow": {
     "slide_type": "subslide"
    }
   },
   "source": [
    "# 2.3. Dokumentációs stringek\n",
    "\n",
    "- Függvényeket, modulokat és osztályokat lehet és hasznos dokumentálni.\n",
    "- Ehhez egy közvetlenül a definíció után következő név nélküli stringet lehet használni.\n",
    "    - A dokumentáció 1. sora tartalmazza a függvény/osztály/modul rövid leírását.\n",
    "    - Ha részletezni akarjuk, akkor üres sor, majd lehet részletezni a működést, lehet pl. a paraméterekről és a visszatérési értékről írni (opcionális)\n",
    "- Több soros stringet hármas idézőjelpár között lehet megadni (`'''` vagy `\"\"\"`). Ezt máshol is lehet használni (pl. változó megadásánál).\n",
    "\n",
    "\n",
    "\n",
    "```py\n",
    "def fun():\n",
    "    \"\"\"Kiírja, hogy 'fun'.\n",
    "    \n",
    "    Nincs se paraméter, se visszatérési érték.\n",
    "    \"\"\"\n",
    "    print('fun')\n",
    "\n",
    "# interaktív python-nál hasznos (less-szerű felület)\n",
    "help(fun)\n",
    "\n",
    "# sima print, bármikor használható\n",
    "print(fun.__doc__)\n",
    "```"
   ]
  },
  {
   "cell_type": "markdown",
   "metadata": {
    "slideshow": {
     "slide_type": "slide"
    }
   },
   "source": [
    "# Köszönöm a figyelmet!"
   ]
  }
 ],
 "metadata": {
  "celltoolbar": "Slideshow",
  "kernelspec": {
   "display_name": "Python 3",
   "language": "python",
   "name": "python3"
  },
  "language_info": {
   "codemirror_mode": {
    "name": "ipython",
    "version": 3
   },
   "file_extension": ".py",
   "mimetype": "text/x-python",
   "name": "python",
   "nbconvert_exporter": "python",
   "pygments_lexer": "ipython3",
   "version": "3.7.5"
  }
 },
 "nbformat": 4,
 "nbformat_minor": 2
}
