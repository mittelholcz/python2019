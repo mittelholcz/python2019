{
 "cells": [
  {
   "cell_type": "markdown",
   "metadata": {
    "slideshow": {
     "slide_type": "slide"
    }
   },
   "source": [
    "# Objektumorientált programozás\n",
    "\n",
    "---\n",
    "\n",
    "(2019. 11. 26. – 9. óra)\n",
    "\n",
    "Mittelholcz Iván"
   ]
  },
  {
   "cell_type": "markdown",
   "metadata": {
    "slideshow": {
     "slide_type": "slide"
    }
   },
   "source": [
    "# Felhasználói típusok\n",
    "\n",
    "Alapfogalmak:\n",
    "\n",
    "- Osztály (class, type): Dolgok egy modellezendő csoportja (számok, szavak, emberek, épületek, akármi).\n",
    "- Objektum (object, instance): Osztályok példányai vagy egyedei."
   ]
  },
  {
   "cell_type": "markdown",
   "metadata": {
    "slideshow": {
     "slide_type": "fragment"
    }
   },
   "source": [
    "Változók / adatok:\n",
    "\n",
    "- Osztályváltozó: Osztály szintű változók (minden példánynál egyezik az értékük)\n",
    "- **Példányváltozó**: Példány szintű változók (minden példánynak saját van). Általában a konstruktorban definiáljuk őket."
   ]
  },
  {
   "cell_type": "markdown",
   "metadata": {
    "slideshow": {
     "slide_type": "fragment"
    }
   },
   "source": [
    "Függvények / metódusok:\n",
    "\n",
    "- Osztálymetódus: Az osztály egészével kapcsolatos függvény, ami csak osztályváltozókhoz fér hozzá.\n",
    "- **Példánymetódus**: Olyan függvény, ami csak egy-egy példánnyal kapcsolatos, osztály- és példányváltozókhoz egyaránt hozzáfér."
   ]
  },
  {
   "cell_type": "markdown",
   "metadata": {
    "slideshow": {
     "slide_type": "subslide"
    }
   },
   "source": [
    "# Példa\n",
    "\n",
    "```py\n",
    "from datetime import date\n",
    "class Person:\n",
    "    # konstruktor:\n",
    "    def __init__(self, name, year):\n",
    "        self.name = name\n",
    "        self.year: date\n",
    "   \n",
    "    def get_age(self):\n",
    "        return date.today().year - self.year\n",
    "```"
   ]
  },
  {
   "cell_type": "markdown",
   "metadata": {
    "slideshow": {
     "slide_type": "skip"
    }
   },
   "source": [
    "# Szintaxis:\n",
    "\n",
    "- definíció: `class` + név + `:`, alatta indentálva a változók és metódusok\n",
    "- osztályváltozó: simán a definíció alatt, indentálva\n",
    "- "
   ]
  },
  {
   "cell_type": "markdown",
   "metadata": {
    "slideshow": {
     "slide_type": "slide"
    }
   },
   "source": [
    "# Öröklődés\n",
    "\n",
    "Egy osztály alosztálya, specializált részhalmaza (pl. szó–ige, ember–nyelvész, stb.) örökli az alap osztály a változóit és metódusait. Szokás *is a* relációnak is hívni, szemben a példányváltozók jelentette *has a* relációval.\n",
    "\n",
    "\n",
    "Szintaxis: Osztály definiálásánál az osztály neve után zárójelben szerepel az ős osztály.\n",
    "\n",
    "Példa:\n",
    "\n",
    "```py\n",
    "class Base:\n",
    "    def fun(self):\n",
    "        print('Base')\n",
    "\n",
    "class Deriv(Base):\n",
    "    pass\n",
    "    \n",
    "der = Deriv()\n",
    "der.fun()\n",
    "# Base\n",
    "```"
   ]
  },
  {
   "cell_type": "markdown",
   "metadata": {
    "slideshow": {
     "slide_type": "slide"
    }
   },
   "source": [
    "# Köszönöm a figyelmet!"
   ]
  }
 ],
 "metadata": {
  "celltoolbar": "Slideshow",
  "kernelspec": {
   "display_name": "Python 3",
   "language": "python",
   "name": "python3"
  },
  "language_info": {
   "codemirror_mode": {
    "name": "ipython",
    "version": 3
   },
   "file_extension": ".py",
   "mimetype": "text/x-python",
   "name": "python",
   "nbconvert_exporter": "python",
   "pygments_lexer": "ipython3",
   "version": "3.7.5"
  }
 },
 "nbformat": 4,
 "nbformat_minor": 2
}
