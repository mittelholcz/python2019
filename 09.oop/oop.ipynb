{
 "cells": [
  {
   "cell_type": "markdown",
   "metadata": {
    "slideshow": {
     "slide_type": "slide"
    }
   },
   "source": [
    "# Objektumorientált programozás\n",
    "\n",
    "---\n",
    "\n",
    "(2019. 11. 26. – 9. óra)\n",
    "\n",
    "Mittelholcz Iván"
   ]
  },
  {
   "cell_type": "markdown",
   "metadata": {
    "slideshow": {
     "slide_type": "slide"
    }
   },
   "source": [
    "# Felhasználói típusok\n",
    "\n",
    "Alapfogalmak:\n",
    "\n",
    "- Osztály (class, type): Dolgok egy modellezendő csoportja (számok, szavak, emberek, épületek, akármi).\n",
    "- Objektum (object, instance): Osztályok példányai vagy egyedei.\n",
    "- Öröklődés: egy osztály alosztálya, specializált részhalmaza (pl. szó–ige, ember–nyelvész, stb.), ami örökli az alap osztályának a változóit és metódusait."
   ]
  },
  {
   "cell_type": "markdown",
   "metadata": {
    "slideshow": {
     "slide_type": "fragment"
    }
   },
   "source": [
    "Változók / adatok:\n",
    "\n",
    "- Osztályváltozó: Osztály szintű változók (minden példánynál egyezik az értékük)\n",
    "- **Példányváltozó**: Példány szintű változók (minden példánynak saját van)"
   ]
  },
  {
   "cell_type": "markdown",
   "metadata": {
    "slideshow": {
     "slide_type": "fragment"
    }
   },
   "source": [
    "Függvények / metódusok:\n",
    "\n",
    "- Osztálymetódus: Az osztály egészével kapcsolatos függvény, ami csak osztályváltozókhoz fér hozzá.\n",
    "- **Példánymetódus**: Olyan függvény, ami csak egy-egy példánnyal kapcsolatos, osztály- és példányváltozókhoz egyaránt hozzáfér."
   ]
  },
  {
   "cell_type": "markdown",
   "metadata": {
    "slideshow": {
     "slide_type": "subslide"
    }
   },
   "source": [
    "# Példa\n",
    "\n",
    "```py\n",
    "class Person:\n",
    "    \n",
    "    # konstruktor\n",
    "```"
   ]
  },
  {
   "cell_type": "markdown",
   "metadata": {
    "slideshow": {
     "slide_type": "slide"
    }
   },
   "source": [
    "# Köszönöm a figyelmet!"
   ]
  }
 ],
 "metadata": {
  "celltoolbar": "Slideshow",
  "kernelspec": {
   "display_name": "Python 3",
   "language": "python",
   "name": "python3"
  },
  "language_info": {
   "codemirror_mode": {
    "name": "ipython",
    "version": 3
   },
   "file_extension": ".py",
   "mimetype": "text/x-python",
   "name": "python",
   "nbconvert_exporter": "python",
   "pygments_lexer": "ipython3",
   "version": "3.7.5"
  }
 },
 "nbformat": 4,
 "nbformat_minor": 2
}
