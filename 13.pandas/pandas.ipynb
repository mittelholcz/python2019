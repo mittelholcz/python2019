{
 "cells": [
  {
   "cell_type": "markdown",
   "metadata": {},
   "source": [
    "# Pandas\n",
    "\n",
    "---\n",
    "\n",
    "(2020. 01. 28. – 13. óra)\n",
    "\n",
    "Mittelholcz Iván"
   ]
  },
  {
   "cell_type": "markdown",
   "metadata": {},
   "source": [
    "## 1. Bevezetés"
   ]
  },
  {
   "cell_type": "markdown",
   "metadata": {},
   "source": [
    "### 1.1. Python csomagok statisztikához és gépi tanuláshoz\n",
    "\n",
    "* [numpy](http://www.numpy.org/): adatszerkezetek (array), matematikai számítások, lineáris algebra\n",
    "* [scipy](https://www.scipy.org/): numpy-ra épülő, tudományos számítások\n",
    "* [matplotlib](https://matplotlib.org/), [seaborn](https://seaborn.pydata.org/): adatvizualizáció, plottolás\n",
    "* [pandas](http://pandas.pydata.org/): dataframe adatszerkezet adatok kezeléséhez\n",
    "* [scikit-learn](http://scikit-learn.org/stable/): gépitanulás"
   ]
  },
  {
   "cell_type": "markdown",
   "metadata": {},
   "source": [
    "### 1.2. Írisz adatbázis\n",
    "\n",
    "(Fisher, 1936)\n",
    "\n",
    "Gépitanulós, adattudományos *hello world*:\n",
    "\n",
    "- 150 írisz\n",
    "- négy tulajdonság: *sepal_length*, *sepal_width*, *petal_length*, *petal_width*\n",
    "- három alosztály: *setosa*, *versicolor*, *virginica*\n",
    "\n",
    "<img src=\"https://www.math.umd.edu/~petersd/666/html/iris_with_labels.jpg\" />"
   ]
  },
  {
   "cell_type": "markdown",
   "metadata": {},
   "source": [
    "## 2. Pandas DataFrame\n",
    "\n",
    "A Pandas saját, kétdimenziós, címkézett adatszerkezete. Series-ekből (egydimenziós címkézett adatszerkezetekből épül fel -- ezekkel nem fogunk foglalkozni).\n",
    "\n",
    "CSV fájl beolvasása DF-be:\n",
    "\n",
    "```py\n",
    "df = pd.read_csv('filename')\n",
    "```\n",
    "\n",
    "Hasznos opcionális paraméterek:\n",
    "\n",
    "- `sep='\\t'`: TSV-hez.\n",
    "- `index_col=0`: Saját index (címke) oszlop megadása.\n",
    "\n",
    "DF kiírása CSV fájlba:\n",
    "\n",
    "```py\n",
    "df.to_csv('filename')\n",
    "```\n",
    "\n",
    "A `sep` paraméter itt is hasznos lehet!"
   ]
  },
  {
   "cell_type": "code",
   "execution_count": 11,
   "metadata": {},
   "outputs": [],
   "source": [
    "# Példa\n",
    "\n",
    "import pandas as pd\n",
    "\n",
    "# TODO!\n",
    "df = pd.read_csv('iris.tsv')\n",
    "df = pd.read_csv('iris.tsv', sep='\\t', index_col=0)"
   ]
  },
  {
   "cell_type": "markdown",
   "metadata": {},
   "source": [
    "## 3. Megjelenítés, alap infók\n",
    "\n",
    "- DF első (*n*) sora: `df.head()`, `df.head(n)`\n",
    "- DF utolsó (*n*) sora: `df.tail()`, `df.tail(n)`\n",
    "- Adattípus: `type(df)`\n",
    "- Hányszor hányas: `df.shape`\n",
    "- Mit lehet még tudni róla: `df.info()`"
   ]
  },
  {
   "cell_type": "code",
   "execution_count": 10,
   "metadata": {},
   "outputs": [],
   "source": [
    "# Feladatok:\n",
    "\n",
    "# Dimenziók?\n",
    "# Mekkora helyet foglal a memóriában?\n",
    "# Írassuk ki az utolsó 10 sort"
   ]
  },
  {
   "cell_type": "markdown",
   "metadata": {},
   "source": [
    "## 4. Sorok, oszlopok indexelése, szeletelése\n",
    "\n",
    "Egy DF-ben a sorok és oszlopok címkézettek és pozíciójuk is van $\\rightarrow$ egyszerre tudnak szótárszerűen és listaszerűen is viselkedni: hivatkozhatók kulcsszó ill. pozíció szerint is!\n",
    "\n",
    "- címkék: `df.axes`\n",
    "- sorcímkék: `df.axes[0]`\n",
    "- oszlopcímkék: `df.axes[1]`\n",
    "- adatok, címkék nélkül: `df.values`"
   ]
  },
  {
   "cell_type": "markdown",
   "metadata": {},
   "source": [
    "### 4.1. Közvetlen hivatkozás\n",
    "\n",
    "- A DF oszlopai közvetlenül a nevükkel hivatkozhatók (`df['oszlopnev']`), de pozícióval nem.\n",
    "- A sorok nem hivatkozhatók közvetlenül.\n",
    "- A DF közvetlenül nem is szeletelhető."
   ]
  },
  {
   "cell_type": "markdown",
   "metadata": {},
   "source": [
    "### 4.2. Hivatkozás címkékkel (`df.loc`)\n",
    "\n",
    "```py\n",
    "df.loc[[sorcímkék], [oszlopcímkék]]\n",
    "```\n",
    "\n",
    "- egy cella: `df.loc[[x], [y]]`\n",
    "- több cella: `df.loc[[x1, x2, ...], [y1, y2, ...]]` (listával)\n",
    "- több cella:  `df.loc[x1:x2, y1:y2]` (szeleteléssel, inklúzív!)\n",
    "- egy sor: `df.loc[[x], :]`\n",
    "- egy oszlop: `df.loc[:, [y]]`\n",
    "- több sor: `df.loc[[x1, x2, ...], :]` (listával)\n",
    "- több sor: `df.loc[x1:x2, :]` (szeleteléssel)\n",
    "- több oszlop: `df.loc[:, [x1, x2, ...]]` (listával)\n",
    "- több oszlop: `df.loc[:, x1:x2]` (szeleteléssel)\n",
    "\n"
   ]
  },
  {
   "cell_type": "markdown",
   "metadata": {},
   "source": [
    "### 4.3. Hivatkozás pozícióval (`df.iloc`)\n",
    "\n",
    "```py\n",
    "df.iloc[[sor_pozíciók], [oszlop_pozíciók]]\n",
    "```\n",
    "\n",
    "Ugyanaz, mint a `df.loc`, de szeletelésnél a *meddig* excuzív (ahogy pythonban)!"
   ]
  },
  {
   "cell_type": "code",
   "execution_count": 38,
   "metadata": {},
   "outputs": [],
   "source": [
    "# Feladatok\n",
    "\n",
    "# Irassuk ki a 95-105 sorokban található levélszélességeket többféleképpen is."
   ]
  },
  {
   "cell_type": "markdown",
   "metadata": {},
   "source": [
    "## 5. 1. Sorok szűrése"
   ]
  },
  {
   "cell_type": "code",
   "execution_count": 80,
   "metadata": {},
   "outputs": [
    {
     "data": {
      "text/html": [
       "<div>\n",
       "<style scoped>\n",
       "    .dataframe tbody tr th:only-of-type {\n",
       "        vertical-align: middle;\n",
       "    }\n",
       "\n",
       "    .dataframe tbody tr th {\n",
       "        vertical-align: top;\n",
       "    }\n",
       "\n",
       "    .dataframe thead th {\n",
       "        text-align: right;\n",
       "    }\n",
       "</style>\n",
       "<table border=\"1\" class=\"dataframe\">\n",
       "  <thead>\n",
       "    <tr style=\"text-align: right;\">\n",
       "      <th></th>\n",
       "      <th>sepal_length</th>\n",
       "      <th>sepal_width</th>\n",
       "      <th>petal_length</th>\n",
       "      <th>petal_width</th>\n",
       "      <th>species</th>\n",
       "    </tr>\n",
       "    <tr>\n",
       "      <th>ID</th>\n",
       "      <th></th>\n",
       "      <th></th>\n",
       "      <th></th>\n",
       "      <th></th>\n",
       "      <th></th>\n",
       "    </tr>\n",
       "  </thead>\n",
       "  <tbody>\n",
       "    <tr>\n",
       "      <th>15</th>\n",
       "      <td>5.8</td>\n",
       "      <td>4.0</td>\n",
       "      <td>1.2</td>\n",
       "      <td>0.2</td>\n",
       "      <td>setosa</td>\n",
       "    </tr>\n",
       "    <tr>\n",
       "      <th>16</th>\n",
       "      <td>5.7</td>\n",
       "      <td>4.4</td>\n",
       "      <td>1.5</td>\n",
       "      <td>0.4</td>\n",
       "      <td>setosa</td>\n",
       "    </tr>\n",
       "    <tr>\n",
       "      <th>19</th>\n",
       "      <td>5.7</td>\n",
       "      <td>3.8</td>\n",
       "      <td>1.7</td>\n",
       "      <td>0.3</td>\n",
       "      <td>setosa</td>\n",
       "    </tr>\n",
       "    <tr>\n",
       "      <th>65</th>\n",
       "      <td>5.6</td>\n",
       "      <td>2.9</td>\n",
       "      <td>3.6</td>\n",
       "      <td>1.3</td>\n",
       "      <td>versicolor</td>\n",
       "    </tr>\n",
       "    <tr>\n",
       "      <th>70</th>\n",
       "      <td>5.6</td>\n",
       "      <td>2.5</td>\n",
       "      <td>3.9</td>\n",
       "      <td>1.1</td>\n",
       "      <td>versicolor</td>\n",
       "    </tr>\n",
       "    <tr>\n",
       "      <th>80</th>\n",
       "      <td>5.7</td>\n",
       "      <td>2.6</td>\n",
       "      <td>3.5</td>\n",
       "      <td>1.0</td>\n",
       "      <td>versicolor</td>\n",
       "    </tr>\n",
       "    <tr>\n",
       "      <th>83</th>\n",
       "      <td>5.8</td>\n",
       "      <td>2.7</td>\n",
       "      <td>3.9</td>\n",
       "      <td>1.2</td>\n",
       "      <td>versicolor</td>\n",
       "    </tr>\n",
       "  </tbody>\n",
       "</table>\n",
       "</div>"
      ],
      "text/plain": [
       "    sepal_length  sepal_width  petal_length  petal_width     species\n",
       "ID                                                                  \n",
       "15           5.8          4.0           1.2          0.2      setosa\n",
       "16           5.7          4.4           1.5          0.4      setosa\n",
       "19           5.7          3.8           1.7          0.3      setosa\n",
       "65           5.6          2.9           3.6          1.3  versicolor\n",
       "70           5.6          2.5           3.9          1.1  versicolor\n",
       "80           5.7          2.6           3.5          1.0  versicolor\n",
       "83           5.8          2.7           3.9          1.2  versicolor"
      ]
     },
     "execution_count": 80,
     "metadata": {},
     "output_type": "execute_result"
    }
   ],
   "source": [
    "df[(df['sepal_length'] > 5.5) & (df['petal_length'] < 4)]"
   ]
  },
  {
   "cell_type": "markdown",
   "metadata": {},
   "source": [
    "## TODO\n",
    "\n",
    "1. új sorok és oszlopok (származtatott oszlopok hozzáadása)\n",
    "1. alap statisztikák (átlag, medián, modusz, szórás)\n",
    "1. korreláció\n",
    "1. plottolás\n",
    "\n",
    "Általában nem kell mindent megmutatni, csak a leggyakoribb szükségeket kielégítő módszert."
   ]
  },
  {
   "cell_type": "markdown",
   "metadata": {},
   "source": [
    "## Alap statisztikak"
   ]
  },
  {
   "cell_type": "code",
   "execution_count": 77,
   "metadata": {},
   "outputs": [
    {
     "data": {
      "text/html": [
       "<div>\n",
       "<style scoped>\n",
       "    .dataframe tbody tr th:only-of-type {\n",
       "        vertical-align: middle;\n",
       "    }\n",
       "\n",
       "    .dataframe tbody tr th {\n",
       "        vertical-align: top;\n",
       "    }\n",
       "\n",
       "    .dataframe thead th {\n",
       "        text-align: right;\n",
       "    }\n",
       "</style>\n",
       "<table border=\"1\" class=\"dataframe\">\n",
       "  <thead>\n",
       "    <tr style=\"text-align: right;\">\n",
       "      <th></th>\n",
       "      <th>sepal_length</th>\n",
       "      <th>sepal_width</th>\n",
       "      <th>petal_length</th>\n",
       "      <th>petal_width</th>\n",
       "    </tr>\n",
       "  </thead>\n",
       "  <tbody>\n",
       "    <tr>\n",
       "      <th>count</th>\n",
       "      <td>150.000000</td>\n",
       "      <td>150.000000</td>\n",
       "      <td>150.000000</td>\n",
       "      <td>150.000000</td>\n",
       "    </tr>\n",
       "    <tr>\n",
       "      <th>mean</th>\n",
       "      <td>5.843333</td>\n",
       "      <td>3.057333</td>\n",
       "      <td>3.758000</td>\n",
       "      <td>1.199333</td>\n",
       "    </tr>\n",
       "    <tr>\n",
       "      <th>std</th>\n",
       "      <td>0.828066</td>\n",
       "      <td>0.435866</td>\n",
       "      <td>1.765298</td>\n",
       "      <td>0.762238</td>\n",
       "    </tr>\n",
       "    <tr>\n",
       "      <th>min</th>\n",
       "      <td>4.300000</td>\n",
       "      <td>2.000000</td>\n",
       "      <td>1.000000</td>\n",
       "      <td>0.100000</td>\n",
       "    </tr>\n",
       "    <tr>\n",
       "      <th>25%</th>\n",
       "      <td>5.100000</td>\n",
       "      <td>2.800000</td>\n",
       "      <td>1.600000</td>\n",
       "      <td>0.300000</td>\n",
       "    </tr>\n",
       "    <tr>\n",
       "      <th>50%</th>\n",
       "      <td>5.800000</td>\n",
       "      <td>3.000000</td>\n",
       "      <td>4.350000</td>\n",
       "      <td>1.300000</td>\n",
       "    </tr>\n",
       "    <tr>\n",
       "      <th>75%</th>\n",
       "      <td>6.400000</td>\n",
       "      <td>3.300000</td>\n",
       "      <td>5.100000</td>\n",
       "      <td>1.800000</td>\n",
       "    </tr>\n",
       "    <tr>\n",
       "      <th>max</th>\n",
       "      <td>7.900000</td>\n",
       "      <td>4.400000</td>\n",
       "      <td>6.900000</td>\n",
       "      <td>2.500000</td>\n",
       "    </tr>\n",
       "  </tbody>\n",
       "</table>\n",
       "</div>"
      ],
      "text/plain": [
       "       sepal_length  sepal_width  petal_length  petal_width\n",
       "count    150.000000   150.000000    150.000000   150.000000\n",
       "mean       5.843333     3.057333      3.758000     1.199333\n",
       "std        0.828066     0.435866      1.765298     0.762238\n",
       "min        4.300000     2.000000      1.000000     0.100000\n",
       "25%        5.100000     2.800000      1.600000     0.300000\n",
       "50%        5.800000     3.000000      4.350000     1.300000\n",
       "75%        6.400000     3.300000      5.100000     1.800000\n",
       "max        7.900000     4.400000      6.900000     2.500000"
      ]
     },
     "execution_count": 77,
     "metadata": {},
     "output_type": "execute_result"
    }
   ],
   "source": [
    "df.describe()\n",
    "#df.min()\n",
    "#df.max()\n",
    "#df.mode()\n",
    "#df.median()\n",
    "#df.std()\n",
    "#df.count(axis=1, 'virginica')"
   ]
  }
 ],
 "metadata": {
  "kernelspec": {
   "display_name": "Python 3",
   "language": "python",
   "name": "python3"
  },
  "language_info": {
   "codemirror_mode": {
    "name": "ipython",
    "version": 3
   },
   "file_extension": ".py",
   "mimetype": "text/x-python",
   "name": "python",
   "nbconvert_exporter": "python",
   "pygments_lexer": "ipython3",
   "version": "3.7.6"
  }
 },
 "nbformat": 4,
 "nbformat_minor": 2
}
