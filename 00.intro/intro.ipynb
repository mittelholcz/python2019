{
 "cells": [
  {
   "cell_type": "markdown",
   "metadata": {
    "slideshow": {
     "slide_type": "slide"
    }
   },
   "source": [
    "# fonetika.py\n",
    "\n",
    "---\n",
    "\n",
    "Bevezető Python-kurzus, 2019"
   ]
  },
  {
   "cell_type": "markdown",
   "metadata": {
    "slideshow": {
     "slide_type": "slide"
    }
   },
   "source": [
    "# Bemutatkozás"
   ]
  },
  {
   "cell_type": "markdown",
   "metadata": {
    "slideshow": {
     "slide_type": "fragment"
    }
   },
   "source": [
    "* én"
   ]
  },
  {
   "cell_type": "markdown",
   "metadata": {
    "slideshow": {
     "slide_type": "fragment"
    }
   },
   "source": [
    "* ti"
   ]
  },
  {
   "cell_type": "markdown",
   "metadata": {
    "slideshow": {
     "slide_type": "slide"
    }
   },
   "source": [
    "# Tematika"
   ]
  },
  {
   "cell_type": "markdown",
   "metadata": {
    "slideshow": {
     "slide_type": "fragment"
    }
   },
   "source": [
    "## Mi nem várható\n",
    "\n",
    "- programozók leszünk két hónap alatt\n",
    "- Mesterséges intelligencia szakértők leszünk pikk-pakk"
   ]
  },
  {
   "cell_type": "markdown",
   "metadata": {
    "slideshow": {
     "slide_type": "fragment"
    }
   },
   "source": [
    "## Mi várható\n",
    "\n",
    "- parancssor: 1-2 alkalom\n",
    "- python alapok: 6-7 alkalom\n",
    "- szövegfeldolgozás: 1-2 alkalom\n",
    "- statisztika, gépi tanulás: 2-3 alkalom"
   ]
  },
  {
   "cell_type": "markdown",
   "metadata": {
    "slideshow": {
     "slide_type": "slide"
    }
   },
   "source": [
    "# Technikai információk\n",
    "\n",
    "amivel dolgozni fogunk:\n",
    "\n",
    "- bash: 4.2+\n",
    "- python: 3.6+\n",
    "\n",
    "amin dolgozni fogunk:\n",
    "\n",
    "- OS X, Linux: 🗸\n",
    "- Windows: [wsl](https://docs.microsoft.com/en-us/windows/wsl/install-win10)\n",
    "\n",
    "amibe írni fogunk:\n",
    "\n",
    "- Windows: [notepad++](https://notepad-plus-plus.org/download/v7.7.1.html)\n",
    "- OS X: TextMate\n",
    "- Linux: Gedit, Geany, Kate\n",
    "- akinek már van: emacs, vim, akármi..."
   ]
  },
  {
   "cell_type": "markdown",
   "metadata": {
    "slideshow": {
     "slide_type": "slide"
    }
   },
   "source": [
    "# További frissítések és telepítések\n",
    "\n",
    "Ubuntu / Windows Subsystem for Linux:\n",
    "\n",
    "```sh\n",
    "sudo -i\n",
    "apt-get update\n",
    "apt-get upgrade\n",
    "apt-get install python3-pip\n",
    "```"
   ]
  },
  {
   "cell_type": "markdown",
   "metadata": {
    "slideshow": {
     "slide_type": "slide"
    }
   },
   "source": [
    "# https://github.com/mittelholcz/python2019"
   ]
  },
  {
   "cell_type": "markdown",
   "metadata": {
    "slideshow": {
     "slide_type": "slide"
    }
   },
   "source": [
    "# Köszönöm a figyelmet!\n",
    "\n",
    "---"
   ]
  }
 ],
 "metadata": {
  "celltoolbar": "Slideshow",
  "kernelspec": {
   "display_name": "Python 3",
   "language": "python",
   "name": "python3"
  },
  "language_info": {
   "codemirror_mode": {
    "name": "ipython",
    "version": 3
   },
   "file_extension": ".py",
   "mimetype": "text/x-python",
   "name": "python",
   "nbconvert_exporter": "python",
   "pygments_lexer": "ipython3",
   "version": "3.7.4"
  }
 },
 "nbformat": 4,
 "nbformat_minor": 2
}
